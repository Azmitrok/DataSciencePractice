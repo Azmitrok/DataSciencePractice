{
 "cells": [
  {
   "cell_type": "code",
   "execution_count": 123,
   "metadata": {},
   "outputs": [],
   "source": [
    "import numpy as np\n",
    "from keras.datasets import reuters\n",
    "WORDS_NUMBER = 20000"
   ]
  },
  {
   "cell_type": "code",
   "execution_count": 124,
   "metadata": {},
   "outputs": [],
   "source": [
    "(train_data, train_labels), (test_data, test_labels) = reuters.load_data(num_words=WORDS_NUMBER)"
   ]
  },
  {
   "cell_type": "code",
   "execution_count": 125,
   "metadata": {},
   "outputs": [
    {
     "data": {
      "text/plain": [
       "8982"
      ]
     },
     "execution_count": 125,
     "metadata": {},
     "output_type": "execute_result"
    }
   ],
   "source": [
    "len(train_data)"
   ]
  },
  {
   "cell_type": "code",
   "execution_count": 126,
   "metadata": {},
   "outputs": [
    {
     "data": {
      "text/plain": [
       "2246"
      ]
     },
     "execution_count": 126,
     "metadata": {},
     "output_type": "execute_result"
    }
   ],
   "source": [
    "len(test_data)"
   ]
  },
  {
   "cell_type": "code",
   "execution_count": 127,
   "metadata": {},
   "outputs": [
    {
     "data": {
      "text/plain": [
       "array([  55,  432,   74, 3159, 1949,   17,   48,   16,  139,  101,  124,\n",
       "        390,   49,  172,   26,   20,  444,   39,   66,  549,  269,  100,\n",
       "         15,   41,   62,   92,   24,   15,   48,   19,   45,   39,   32,\n",
       "         11,   50,   10,   49,   19,   19,   24,   36,   30,   13,   21,\n",
       "         12,   18], dtype=int64)"
      ]
     },
     "execution_count": 127,
     "metadata": {},
     "output_type": "execute_result"
    }
   ],
   "source": [
    "\n",
    "uniq, count = np.unique( train_labels, return_counts=True)\n",
    "count"
   ]
  },
  {
   "cell_type": "code",
   "execution_count": 128,
   "metadata": {},
   "outputs": [],
   "source": [
    "word_index = reuters.get_word_index()"
   ]
  },
  {
   "cell_type": "code",
   "execution_count": 129,
   "metadata": {},
   "outputs": [
    {
     "data": {
      "text/plain": [
       "dict"
      ]
     },
     "execution_count": 129,
     "metadata": {},
     "output_type": "execute_result"
    }
   ],
   "source": [
    "type(word_index)"
   ]
  },
  {
   "cell_type": "code",
   "execution_count": 130,
   "metadata": {},
   "outputs": [
    {
     "data": {
      "text/plain": [
       "('heublein', 8352)"
      ]
     },
     "execution_count": 130,
     "metadata": {},
     "output_type": "execute_result"
    }
   ],
   "source": [
    "word_items =  word_index.items()\n",
    "word_items_list = list(word_items)\n",
    "word_items_list[12]"
   ]
  },
  {
   "cell_type": "code",
   "execution_count": 131,
   "metadata": {},
   "outputs": [
    {
     "data": {
      "text/plain": [
       "list"
      ]
     },
     "execution_count": 131,
     "metadata": {},
     "output_type": "execute_result"
    }
   ],
   "source": [
    "type(x)"
   ]
  },
  {
   "cell_type": "code",
   "execution_count": 132,
   "metadata": {},
   "outputs": [],
   "source": [
    "from keras import models\n",
    "from keras import layers\n",
    "\n",
    "model = models.Sequential()\n",
    "model.add(layers.Dense(128, activation='relu', input_shape=(WORDS_NUMBER,)))\n",
    "model.add(layers.Dense(64, activation='relu'))\n",
    "model.add(layers.Dense(64, activation='relu'))\n",
    "model.add(layers.Dense(46, activation='softmax'))"
   ]
  },
  {
   "cell_type": "code",
   "execution_count": 133,
   "metadata": {
    "scrolled": true
   },
   "outputs": [],
   "source": [
    "from keras.utils.np_utils import to_categorical\n",
    "one_hot_train_labels = to_categorical(train_labels)\n",
    "one_hot_test_labels = to_categorical(test_labels)\n",
    "\n"
   ]
  },
  {
   "cell_type": "code",
   "execution_count": 134,
   "metadata": {},
   "outputs": [],
   "source": [
    "def vectorize_sequences(sequences, dimension=WORDS_NUMBER):        \n",
    "    results = np.zeros((len(sequences), dimension))\n",
    "    for i, sequence in enumerate(sequences):\n",
    "        results[i, sequence] = 1\n",
    "    return results\n",
    "\n",
    "\n",
    "x_train = vectorize_sequences(train_data)\n",
    "x_test = vectorize_sequences(test_data)"
   ]
  },
  {
   "cell_type": "code",
   "execution_count": 135,
   "metadata": {},
   "outputs": [],
   "source": [
    "model.compile(optimizer='rmsprop', loss='categorical_crossentropy', metrics=['accuracy'])"
   ]
  },
  {
   "cell_type": "code",
   "execution_count": 136,
   "metadata": {},
   "outputs": [],
   "source": [
    "x_val = x_train[:900]\n",
    "partial_x_train = x_train[900:]\n",
    "\n",
    "y_val = one_hot_train_labels[:900]\n",
    "partial_y_train = one_hot_train_labels[900:]"
   ]
  },
  {
   "cell_type": "code",
   "execution_count": 137,
   "metadata": {},
   "outputs": [
    {
     "name": "stdout",
     "output_type": "stream",
     "text": [
      "Train on 8082 samples, validate on 900 samples\n",
      "Epoch 1/20\n",
      "8082/8082 [==============================] - 6s 740us/step - loss: 2.3697 - acc: 0.5068 - val_loss: 1.4766 - val_acc: 0.6589\n",
      "Epoch 2/20\n",
      "8082/8082 [==============================] - 4s 546us/step - loss: 1.1937 - acc: 0.7315 - val_loss: 1.1985 - val_acc: 0.7367\n",
      "Epoch 3/20\n",
      "8082/8082 [==============================] - 4s 544us/step - loss: 0.8443 - acc: 0.8114 - val_loss: 1.0640 - val_acc: 0.7644\n",
      "Epoch 4/20\n",
      "8082/8082 [==============================] - 4s 552us/step - loss: 0.6168 - acc: 0.8619 - val_loss: 1.0147 - val_acc: 0.7778\n",
      "Epoch 5/20\n",
      "8082/8082 [==============================] - 4s 547us/step - loss: 0.4470 - acc: 0.9027 - val_loss: 1.0599 - val_acc: 0.7667\n",
      "Epoch 6/20\n",
      "8082/8082 [==============================] - 4s 547us/step - loss: 0.3398 - acc: 0.9271 - val_loss: 0.9517 - val_acc: 0.8133\n",
      "Epoch 7/20\n",
      "8082/8082 [==============================] - 4s 549us/step - loss: 0.2618 - acc: 0.9431 - val_loss: 0.9735 - val_acc: 0.8122\n",
      "Epoch 8/20\n",
      "8082/8082 [==============================] - 4s 550us/step - loss: 0.2163 - acc: 0.9459 - val_loss: 0.9954 - val_acc: 0.8044\n",
      "Epoch 9/20\n",
      "8082/8082 [==============================] - 4s 544us/step - loss: 0.1912 - acc: 0.9509 - val_loss: 1.0302 - val_acc: 0.8000\n",
      "Epoch 10/20\n",
      "8082/8082 [==============================] - 4s 544us/step - loss: 0.1600 - acc: 0.9537 - val_loss: 1.0556 - val_acc: 0.8022\n",
      "Epoch 11/20\n",
      "8082/8082 [==============================] - 4s 551us/step - loss: 0.1477 - acc: 0.9572 - val_loss: 1.0785 - val_acc: 0.7989\n",
      "Epoch 12/20\n",
      "8082/8082 [==============================] - 4s 543us/step - loss: 0.1382 - acc: 0.9569 - val_loss: 1.0655 - val_acc: 0.8044\n",
      "Epoch 13/20\n",
      "8082/8082 [==============================] - 4s 547us/step - loss: 0.1302 - acc: 0.9560 - val_loss: 1.1027 - val_acc: 0.7978\n",
      "Epoch 14/20\n",
      "8082/8082 [==============================] - 4s 547us/step - loss: 0.1263 - acc: 0.9552 - val_loss: 1.1038 - val_acc: 0.7967\n",
      "Epoch 15/20\n",
      "8082/8082 [==============================] - 4s 550us/step - loss: 0.1238 - acc: 0.9567 - val_loss: 1.1242 - val_acc: 0.8011\n",
      "Epoch 16/20\n",
      "8082/8082 [==============================] - 4s 546us/step - loss: 0.1154 - acc: 0.9562 - val_loss: 1.2010 - val_acc: 0.7933\n",
      "Epoch 17/20\n",
      "8082/8082 [==============================] - 4s 557us/step - loss: 0.1151 - acc: 0.9581 - val_loss: 1.2211 - val_acc: 0.7900\n",
      "Epoch 18/20\n",
      "8082/8082 [==============================] - 4s 547us/step - loss: 0.1046 - acc: 0.9597 - val_loss: 1.2132 - val_acc: 0.7767\n",
      "Epoch 19/20\n",
      "8082/8082 [==============================] - 4s 548us/step - loss: 0.1103 - acc: 0.9558 - val_loss: 1.1569 - val_acc: 0.7944\n",
      "Epoch 20/20\n",
      "8082/8082 [==============================] - 4s 545us/step - loss: 0.1018 - acc: 0.9572 - val_loss: 1.3467 - val_acc: 0.7522\n"
     ]
    }
   ],
   "source": [
    "history = model.fit(partial_x_train, partial_y_train, epochs=20, batch_size=512, validation_data=(x_val, y_val))"
   ]
  },
  {
   "cell_type": "code",
   "execution_count": 113,
   "metadata": {},
   "outputs": [
    {
     "data": {
      "text/plain": [
       "[<matplotlib.lines.Line2D at 0x171b79314e0>]"
      ]
     },
     "execution_count": 113,
     "metadata": {},
     "output_type": "execute_result"
    },
    {
     "data": {
      "image/png": "[encoded data removed]",
      "text/plain": [
       "<Figure size 432x288 with 1 Axes>"
      ]
     },
     "metadata": {
      "needs_background": "light"
     },
     "output_type": "display_data"
    }
   ],
   "source": [
    "history.history['val_acc']\n",
    "plt.plot(history.history['val_acc'])\n",
    "plt.plot(history.history['acc'])"
   ]
  },
  {
   "cell_type": "code",
   "execution_count": 138,
   "metadata": {},
   "outputs": [
    {
     "data": {
      "image/png": "[encoded data removed]",
      "text/plain": [
       "<Figure size 432x288 with 1 Axes>"
      ]
     },
     "metadata": {
      "needs_background": "light"
     },
     "output_type": "display_data"
    }
   ],
   "source": [
    "import matplotlib.pyplot as plt\n",
    "loss = history.history['loss']\n",
    "val_loss = history.history['val_loss']\n",
    "epochs = range(1, len(loss)+1)\n",
    "plt.plot(epochs, loss, 'bo', label='Training loss')\n",
    "plt.plot(epochs, val_loss, 'b', label='Validation loss')\n",
    "plt.title('Training and validation loss')\n",
    "plt.xlabel('Epochs')\n",
    "plt.ylabel('Loss')\n",
    "plt.legend()\n",
    "\n",
    "plt.show()"
   ]
  },
  {
   "cell_type": "code",
   "execution_count": 139,
   "metadata": {},
   "outputs": [
    {
     "data": {
      "image/png": "[encoded data removed]",
      "text/plain": [
       "<Figure size 432x288 with 1 Axes>"
      ]
     },
     "metadata": {
      "needs_background": "light"
     },
     "output_type": "display_data"
    }
   ],
   "source": [
    "import matplotlib.pyplot as plt\n",
    "acc = history.history['acc']\n",
    "val_acc = history.history['val_acc']\n",
    "epochs = range(1, len(acc)+1)\n",
    "plt.plot(epochs, acc, 'bo', label='Training acc')\n",
    "plt.plot(epochs, val_acc, 'b', label='Validation acc')\n",
    "plt.title('Training and validation acc')\n",
    "plt.xlabel('Epochs')\n",
    "plt.ylabel('Accuracy')\n",
    "plt.legend()\n",
    "\n",
    "plt.show()"
   ]
  },
  {
   "cell_type": "code",
   "execution_count": 140,
   "metadata": {},
   "outputs": [],
   "source": [
    "predictions = model.predict(x_test)"
   ]
  },
  {
   "cell_type": "code",
   "execution_count": 141,
   "metadata": {},
   "outputs": [
    {
     "data": {
      "text/plain": [
       "13"
      ]
     },
     "execution_count": 141,
     "metadata": {},
     "output_type": "execute_result"
    }
   ],
   "source": [
    "np.argmax(predictions[4])"
   ]
  },
  {
   "cell_type": "code",
   "execution_count": null,
   "metadata": {},
   "outputs": [],
   "source": []
  }
 ],
 "metadata": {
  "kernelspec": {
   "display_name": "Python 3",
   "language": "python",
   "name": "python3"
  },
  "language_info": {
   "codemirror_mode": {
    "name": "ipython",
    "version": 3
   },
   "file_extension": ".py",
   "mimetype": "text/x-python",
   "name": "python",
   "nbconvert_exporter": "python",
   "pygments_lexer": "ipython3",
   "version": "3.6.8"
  }
 },
 "nbformat": 4,
 "nbformat_minor": 2
}
