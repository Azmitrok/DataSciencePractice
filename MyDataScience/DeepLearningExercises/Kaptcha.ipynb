{
 "cells": [
  {
   "cell_type": "code",
   "execution_count": 64,
   "metadata": {},
   "outputs": [],
   "source": [
    "import math\n",
    "import numpy as np"
   ]
  },
  {
   "cell_type": "code",
   "execution_count": 65,
   "metadata": {},
   "outputs": [],
   "source": [
    "zero_digit = [\n",
    "    1,1,1,1,1,\n",
    "    1,0,0,0,1,\n",
    "    1,0,0,0,1,\n",
    "    1,0,0,0,1,\n",
    "    1,1,1,1,1\n",
    "             ]\n",
    "\n",
    "one_digit = [\n",
    "    0,0,0,0,1,\n",
    "    0,0,0,0,1,\n",
    "    0,0,0,0,1,\n",
    "    0,0,0,0,1,\n",
    "    0,0,0,0,1\n",
    "]\n",
    "\n",
    "two_digit = [\n",
    "    1,1,1,1,1,\n",
    "    0,0,0,0,1,\n",
    "    1,1,1,1,1,\n",
    "    1,0,0,0,0,\n",
    "    1,1,1,1,1\n",
    "]\n",
    "\n",
    "three_digit = [\n",
    "    1,1,1,1,1,\n",
    "    0,0,0,0,1,\n",
    "    1,1,1,1,1,\n",
    "    0,0,0,0,1,\n",
    "    1,1,1,1,1\n",
    "]\n",
    "\n",
    "four_digit = [\n",
    "    1,0,0,0,1,\n",
    "    1,0,0,0,1,\n",
    "    1,1,1,1,1,\n",
    "    0,0,0,0,1,\n",
    "    0,0,0,0,1\n",
    "]\n",
    "\n",
    "five_digit = [\n",
    "    1,1,1,1,1,\n",
    "    1,0,0,0,0,\n",
    "    1,1,1,1,1,\n",
    "    0,0,0,0,1,\n",
    "    1,1,1,1,1\n",
    "]\n",
    "six_digit = [\n",
    "    1,1,1,1,1,\n",
    "    1,0,0,0,0,\n",
    "    1,1,1,1,1,\n",
    "    1,0,0,0,1,\n",
    "    1,1,1,1,1\n",
    "]\n",
    "seven_digit = [\n",
    "    1,1,1,1,1,\n",
    "    0,0,0,0,1,\n",
    "    0,0,0,0,1,\n",
    "    0,0,0,0,1,\n",
    "    0,0,0,0,1\n",
    "]\n",
    "\n",
    "eight_digit = [\n",
    "    1,1,1,1,1,\n",
    "    1,0,0,0,1,\n",
    "    1,1,1,1,1,\n",
    "    1,0,0,0,1,\n",
    "    1,1,1,1,1\n",
    "]\n",
    "\n",
    "nine_digit = [\n",
    "    1,1,1,1,1,\n",
    "    1,0,0,0,1,\n",
    "    1,1,1,1,1,\n",
    "    0,0,0,0,1,\n",
    "    1,1,1,1,1\n",
    "]\n",
    "\n",
    "inputs = [zero_digit, one_digit, two_digit, three_digit, four_digit, five_digit, six_digit, seven_digit, eight_digit, nine_digit]"
   ]
  },
  {
   "cell_type": "code",
   "execution_count": 66,
   "metadata": {},
   "outputs": [],
   "source": [
    "targets = [[1 if i==j else 0 for i in range(10)]\n",
    "          for j in range(10)]"
   ]
  },
  {
   "cell_type": "code",
   "execution_count": 67,
   "metadata": {},
   "outputs": [],
   "source": [
    "import random\n",
    "random.seed(0)\n",
    "input_size = 25\n",
    "num_hidden = 5\n",
    "output_size = 10"
   ]
  },
  {
   "cell_type": "code",
   "execution_count": 68,
   "metadata": {},
   "outputs": [
    {
     "data": {
      "text/plain": [
       "26"
      ]
     },
     "execution_count": 68,
     "metadata": {},
     "output_type": "execute_result"
    }
   ],
   "source": [
    "hidden_layers = [[random.random() for _ in range(input_size+1)] \n",
    "                for _ in range(num_hidden)]\n",
    "len(hidden_layers[0])"
   ]
  },
  {
   "cell_type": "code",
   "execution_count": 69,
   "metadata": {
    "scrolled": true
   },
   "outputs": [
    {
     "data": {
      "text/plain": [
       "[0.8007465903541809,\n",
       " 0.9369691586445807,\n",
       " 0.022782575668658378,\n",
       " 0.42561883196681716,\n",
       " 0.10150021937416975,\n",
       " 0.259919889792832]"
      ]
     },
     "execution_count": 69,
     "metadata": {},
     "output_type": "execute_result"
    }
   ],
   "source": [
    "output_layers = [[random.random() for _ in range(num_hidden+1)] \n",
    "               for _ in range(output_size)]\n",
    "output_layers[0]b"
   ]
  },
  {
   "cell_type": "code",
   "execution_count": 75,
   "metadata": {},
   "outputs": [],
   "source": [
    "def sigmoid(t):\n",
    "    return 1/(1+math.exp(-t))\n",
    "\n",
    "def neuron_output(weights, inputs):\n",
    "    return sigmoid(np.dot(weights, inputs))\n",
    "\n",
    "def feed_forward(neural_network, input_vector):\n",
    "    outputs = []\n",
    "    \n",
    "    for layer in neural_network:\n",
    "        input_with_bias = input_vector + [1]\n",
    "        output = [neuron_output(neuron, input_with_bias)\n",
    "                 for neuron in layer]\n",
    "        outputs.append(output)\n",
    "    input_vector = output\n",
    "    \n",
    "    return output\n",
    "\n",
    "def backpropagate(network, input_vector, targets):\n",
    "    hidden_outputs, outputs = feed_forward(network, input_vector)\n",
    "    output_deltas = [output*(1-output)*(output-target)\n",
    "                    for output, target in zip(outputs, targets)]\n",
    "    \n",
    "    for i, output_neuron in enumerate(network[-1]):\n",
    "        for j, hidden_output in enumerate(hidden_outputs +[1]):\n",
    "            output_neuron[j] -= output_deltas[i]*hidden_output\n",
    "    \n",
    "    hidden_deltas = [hidden_output *(1-hidden_output) *\n",
    "                    dot(output_deltas, [n[i] for n in output_layer])\n",
    "                    for i, hidden_output in enumerate(hidden_outputs)]\n",
    "    \n",
    "    for i, hidden_neuron in enumerate(network[0]):\n",
    "        for j, input in enumerate(input_vector + [1]):\n",
    "            hidden_neuron[j] -= hidden_deltas[i] * input"
   ]
  },
  {
   "cell_type": "code",
   "execution_count": 76,
   "metadata": {},
   "outputs": [
    {
     "ename": "ValueError",
     "evalue": "shapes (4,) and (26,) not aligned: 4 (dim 0) != 26 (dim 0)",
     "output_type": "error",
     "traceback": [
      "\u001b[1;31m---------------------------------------------------------------------------\u001b[0m",
      "\u001b[1;31mValueError\u001b[0m                                Traceback (most recent call last)",
      "\u001b[1;32m<ipython-input-76-5c2d9cd67d96>\u001b[0m in \u001b[0;36m<module>\u001b[1;34m\u001b[0m\n\u001b[0;32m      2\u001b[0m \u001b[1;32mfor\u001b[0m \u001b[0m_\u001b[0m \u001b[1;32min\u001b[0m \u001b[0mrange\u001b[0m\u001b[1;33m(\u001b[0m\u001b[1;36m1000\u001b[0m\u001b[1;33m)\u001b[0m\u001b[1;33m:\u001b[0m\u001b[1;33m\u001b[0m\u001b[1;33m\u001b[0m\u001b[0m\n\u001b[0;32m      3\u001b[0m     \u001b[1;32mfor\u001b[0m \u001b[0minput_vector\u001b[0m\u001b[1;33m,\u001b[0m \u001b[0mtarget_vector\u001b[0m \u001b[1;32min\u001b[0m \u001b[0mzip\u001b[0m\u001b[1;33m(\u001b[0m\u001b[0minputs\u001b[0m\u001b[1;33m,\u001b[0m \u001b[0mtargets\u001b[0m\u001b[1;33m)\u001b[0m\u001b[1;33m:\u001b[0m\u001b[1;33m\u001b[0m\u001b[1;33m\u001b[0m\u001b[0m\n\u001b[1;32m----> 4\u001b[1;33m         \u001b[0mbackpropagate\u001b[0m\u001b[1;33m(\u001b[0m\u001b[0mnetwork\u001b[0m\u001b[1;33m,\u001b[0m \u001b[0minput_vector\u001b[0m\u001b[1;33m,\u001b[0m \u001b[0mtarget_vector\u001b[0m\u001b[1;33m)\u001b[0m\u001b[1;33m\u001b[0m\u001b[1;33m\u001b[0m\u001b[0m\n\u001b[0m",
      "\u001b[1;32m<ipython-input-75-75d2f9b0e289>\u001b[0m in \u001b[0;36mbackpropagate\u001b[1;34m(network, input_vector, targets)\u001b[0m\n\u001b[0;32m     18\u001b[0m \u001b[1;33m\u001b[0m\u001b[0m\n\u001b[0;32m     19\u001b[0m \u001b[1;32mdef\u001b[0m \u001b[0mbackpropagate\u001b[0m\u001b[1;33m(\u001b[0m\u001b[0mnetwork\u001b[0m\u001b[1;33m,\u001b[0m \u001b[0minput_vector\u001b[0m\u001b[1;33m,\u001b[0m \u001b[0mtargets\u001b[0m\u001b[1;33m)\u001b[0m\u001b[1;33m:\u001b[0m\u001b[1;33m\u001b[0m\u001b[1;33m\u001b[0m\u001b[0m\n\u001b[1;32m---> 20\u001b[1;33m     \u001b[0mhidden_outputs\u001b[0m\u001b[1;33m,\u001b[0m \u001b[0moutputs\u001b[0m \u001b[1;33m=\u001b[0m \u001b[0mfeed_forward\u001b[0m\u001b[1;33m(\u001b[0m\u001b[0mnetwork\u001b[0m\u001b[1;33m,\u001b[0m \u001b[0minput_vector\u001b[0m\u001b[1;33m)\u001b[0m\u001b[1;33m\u001b[0m\u001b[1;33m\u001b[0m\u001b[0m\n\u001b[0m\u001b[0;32m     21\u001b[0m     output_deltas = [output*(1-output)*(output-target)\n\u001b[0;32m     22\u001b[0m                     for output, target in zip(outputs, targets)]\n",
      "\u001b[1;32m<ipython-input-75-75d2f9b0e289>\u001b[0m in \u001b[0;36mfeed_forward\u001b[1;34m(neural_network, input_vector)\u001b[0m\n\u001b[0;32m     11\u001b[0m         \u001b[0minput_with_bias\u001b[0m \u001b[1;33m=\u001b[0m \u001b[0minput_vector\u001b[0m \u001b[1;33m+\u001b[0m \u001b[1;33m[\u001b[0m\u001b[1;36m1\u001b[0m\u001b[1;33m]\u001b[0m\u001b[1;33m\u001b[0m\u001b[1;33m\u001b[0m\u001b[0m\n\u001b[0;32m     12\u001b[0m         output = [neuron_output(neuron, input_with_bias)\n\u001b[1;32m---> 13\u001b[1;33m                  for neuron in layer]\n\u001b[0m\u001b[0;32m     14\u001b[0m         \u001b[0moutputs\u001b[0m\u001b[1;33m.\u001b[0m\u001b[0mappend\u001b[0m\u001b[1;33m(\u001b[0m\u001b[0moutput\u001b[0m\u001b[1;33m)\u001b[0m\u001b[1;33m\u001b[0m\u001b[1;33m\u001b[0m\u001b[0m\n\u001b[0;32m     15\u001b[0m     \u001b[0minput_vector\u001b[0m \u001b[1;33m=\u001b[0m \u001b[0moutput\u001b[0m\u001b[1;33m\u001b[0m\u001b[1;33m\u001b[0m\u001b[0m\n",
      "\u001b[1;32m<ipython-input-75-75d2f9b0e289>\u001b[0m in \u001b[0;36m<listcomp>\u001b[1;34m(.0)\u001b[0m\n\u001b[0;32m     11\u001b[0m         \u001b[0minput_with_bias\u001b[0m \u001b[1;33m=\u001b[0m \u001b[0minput_vector\u001b[0m \u001b[1;33m+\u001b[0m \u001b[1;33m[\u001b[0m\u001b[1;36m1\u001b[0m\u001b[1;33m]\u001b[0m\u001b[1;33m\u001b[0m\u001b[1;33m\u001b[0m\u001b[0m\n\u001b[0;32m     12\u001b[0m         output = [neuron_output(neuron, input_with_bias)\n\u001b[1;32m---> 13\u001b[1;33m                  for neuron in layer]\n\u001b[0m\u001b[0;32m     14\u001b[0m         \u001b[0moutputs\u001b[0m\u001b[1;33m.\u001b[0m\u001b[0mappend\u001b[0m\u001b[1;33m(\u001b[0m\u001b[0moutput\u001b[0m\u001b[1;33m)\u001b[0m\u001b[1;33m\u001b[0m\u001b[1;33m\u001b[0m\u001b[0m\n\u001b[0;32m     15\u001b[0m     \u001b[0minput_vector\u001b[0m \u001b[1;33m=\u001b[0m \u001b[0moutput\u001b[0m\u001b[1;33m\u001b[0m\u001b[1;33m\u001b[0m\u001b[0m\n",
      "\u001b[1;32m<ipython-input-75-75d2f9b0e289>\u001b[0m in \u001b[0;36mneuron_output\u001b[1;34m(weights, inputs)\u001b[0m\n\u001b[0;32m      3\u001b[0m \u001b[1;33m\u001b[0m\u001b[0m\n\u001b[0;32m      4\u001b[0m \u001b[1;32mdef\u001b[0m \u001b[0mneuron_output\u001b[0m\u001b[1;33m(\u001b[0m\u001b[0mweights\u001b[0m\u001b[1;33m,\u001b[0m \u001b[0minputs\u001b[0m\u001b[1;33m)\u001b[0m\u001b[1;33m:\u001b[0m\u001b[1;33m\u001b[0m\u001b[1;33m\u001b[0m\u001b[0m\n\u001b[1;32m----> 5\u001b[1;33m     \u001b[1;32mreturn\u001b[0m \u001b[0msigmoid\u001b[0m\u001b[1;33m(\u001b[0m\u001b[0mnp\u001b[0m\u001b[1;33m.\u001b[0m\u001b[0mdot\u001b[0m\u001b[1;33m(\u001b[0m\u001b[0mweights\u001b[0m\u001b[1;33m,\u001b[0m \u001b[0minputs\u001b[0m\u001b[1;33m)\u001b[0m\u001b[1;33m)\u001b[0m\u001b[1;33m\u001b[0m\u001b[1;33m\u001b[0m\u001b[0m\n\u001b[0m\u001b[0;32m      6\u001b[0m \u001b[1;33m\u001b[0m\u001b[0m\n\u001b[0;32m      7\u001b[0m \u001b[1;32mdef\u001b[0m \u001b[0mfeed_forward\u001b[0m\u001b[1;33m(\u001b[0m\u001b[0mneural_network\u001b[0m\u001b[1;33m,\u001b[0m \u001b[0minput_vector\u001b[0m\u001b[1;33m)\u001b[0m\u001b[1;33m:\u001b[0m\u001b[1;33m\u001b[0m\u001b[1;33m\u001b[0m\u001b[0m\n",
      "\u001b[1;31mValueError\u001b[0m: shapes (4,) and (26,) not aligned: 4 (dim 0) != 26 (dim 0)"
     ]
    }
   ],
   "source": [
    "network = [hidden_layer, output_layer]\n",
    "for _ in range(1000):\n",
    "    for input_vector, target_vector in zip(inputs, targets):\n",
    "        backpropagate(network, input_vector, target_vector)"
   ]
  },
  {
   "cell_type": "code",
   "execution_count": null,
   "metadata": {},
   "outputs": [],
   "source": []
  }
 ],
 "metadata": {
  "kernelspec": {
   "display_name": "Python 3",
   "language": "python",
   "name": "python3"
  },
  "language_info": {
   "codemirror_mode": {
    "name": "ipython",
    "version": 3
   },
   "file_extension": ".py",
   "mimetype": "text/x-python",
   "name": "python",
   "nbconvert_exporter": "python",
   "pygments_lexer": "ipython3",
   "version": "3.6.8"
  }
 },
 "nbformat": 4,
 "nbformat_minor": 2
}
