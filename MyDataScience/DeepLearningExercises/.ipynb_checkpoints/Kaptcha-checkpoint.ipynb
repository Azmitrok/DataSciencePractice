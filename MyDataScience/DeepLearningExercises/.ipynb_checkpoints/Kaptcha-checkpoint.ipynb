{
 "cells": [
  {
   "cell_type": "code",
   "execution_count": 1,
   "metadata": {},
   "outputs": [],
   "source": [
    "import numpy as np"
   ]
  },
  {
   "cell_type": "code",
   "execution_count": 3,
   "metadata": {},
   "outputs": [],
   "source": [
    "zero_digit = [\n",
    "    1,1,1,1,1,\n",
    "    1,0,0,0,1,\n",
    "    1,0,0,0,1,\n",
    "    1,0,0,0,1,\n",
    "    1,1,1,1,1\n",
    "             ]\n",
    "\n",
    "one_digit = [\n",
    "    0,0,0,0,1,\n",
    "    0,0,0,0,1,\n",
    "    0,0,0,0,1,\n",
    "    0,0,0,0,1,\n",
    "    0,0,0,0,1\n",
    "]\n",
    "\n",
    "two_digit = [\n",
    "    1,1,1,1,1,\n",
    "    0,0,0,0,1,\n",
    "    1,1,1,1,1,\n",
    "    1,0,0,0,0\n",
    "    1,1,1,1,1\n",
    "]\n",
    "\n",
    "three_digit = [\n",
    "    1,1,1,1,1,\n",
    "    0,0,0,0,1,\n",
    "    1,1,1,1,1,\n",
    "    0,0,0,0,1,\n",
    "    1,1,1,1,1\n",
    "]\n",
    "\n",
    "four_digit = [\n",
    "    1,0,0,0,1,\n",
    "    1,0,0,0,1,\n",
    "    1,1,1,1,1,\n",
    "    0,0,0,0,1,\n",
    "    0,0,0,0,1\n",
    "]\n",
    "\n",
    "five_digit = [\n",
    "    1,1,1,1,1,\n",
    "    1,0,0,0,0,\n",
    "    1,1,1,1,1,\n",
    "    0,0,0,0,1,\n",
    "    1,1,1,1,1\n",
    "]"
   ]
  },
  {
   "cell_type": "code",
   "execution_count": 5,
   "metadata": {},
   "outputs": [],
   "source": [
    "targets = [[1 if i==j else 0 for i in range(5)]\n",
    "          for j in range(5)]"
   ]
  },
  {
   "cell_type": "code",
   "execution_count": 6,
   "metadata": {},
   "outputs": [
    {
     "data": {
      "text/plain": [
       "[[1, 0, 0, 0, 0],\n",
       " [0, 1, 0, 0, 0],\n",
       " [0, 0, 1, 0, 0],\n",
       " [0, 0, 0, 1, 0],\n",
       " [0, 0, 0, 0, 1]]"
      ]
     },
     "execution_count": 6,
     "metadata": {},
     "output_type": "execute_result"
    }
   ],
   "source": [
    "targets"
   ]
  },
  {
   "cell_type": "code",
   "execution_count": null,
   "metadata": {},
   "outputs": [],
   "source": []
  }
 ],
 "metadata": {
  "kernelspec": {
   "display_name": "Python 3",
   "language": "python",
   "name": "python3"
  },
  "language_info": {
   "codemirror_mode": {
    "name": "ipython",
    "version": 3
   },
   "file_extension": ".py",
   "mimetype": "text/x-python",
   "name": "python",
   "nbconvert_exporter": "python",
   "pygments_lexer": "ipython3",
   "version": "3.6.8"
  }
 },
 "nbformat": 4,
 "nbformat_minor": 2
}
