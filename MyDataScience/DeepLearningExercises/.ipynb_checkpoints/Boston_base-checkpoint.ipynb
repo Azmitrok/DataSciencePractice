{
 "cells": [
  {
   "cell_type": "code",
   "execution_count": 2,
   "metadata": {},
   "outputs": [
    {
     "name": "stdout",
     "output_type": "stream",
     "text": [
      "Downloading data from https://s3.amazonaws.com/keras-datasets/boston_housing.npz\n",
      "57344/57026 [==============================] - 0s 7us/step\n"
     ]
    }
   ],
   "source": [
    "from keras.datasets import boston_housing\n",
    "\n",
    "(x_train, y_train), (x_test, y_test) = boston_housing.load_data()"
   ]
  },
  {
   "cell_type": "code",
   "execution_count": 11,
   "metadata": {},
   "outputs": [],
   "source": [
    "import numpy as np"
   ]
  },
  {
   "cell_type": "code",
   "execution_count": 4,
   "metadata": {},
   "outputs": [
    {
     "data": {
      "text/plain": [
       "numpy.ndarray"
      ]
     },
     "execution_count": 4,
     "metadata": {},
     "output_type": "execute_result"
    }
   ],
   "source": [
    "type(x_train)"
   ]
  },
  {
   "cell_type": "code",
   "execution_count": 5,
   "metadata": {},
   "outputs": [
    {
     "data": {
      "text/plain": [
       "array([3.9610e-02, 0.0000e+00, 5.1900e+00, 0.0000e+00, 5.1500e-01,\n",
       "       6.0370e+00, 3.4500e+01, 5.9853e+00, 5.0000e+00, 2.2400e+02,\n",
       "       2.0200e+01, 3.9690e+02, 8.0100e+00])"
      ]
     },
     "execution_count": 5,
     "metadata": {},
     "output_type": "execute_result"
    }
   ],
   "source": [
    "x_train[3]"
   ]
  },
  {
   "cell_type": "code",
   "execution_count": 24,
   "metadata": {},
   "outputs": [
    {
     "data": {
      "text/plain": [
       "65.44825195804195"
      ]
     },
     "execution_count": 24,
     "metadata": {},
     "output_type": "execute_result"
    }
   ],
   "source": [
    "np.mean(x_test[:11])"
   ]
  },
  {
   "cell_type": "code",
   "execution_count": 30,
   "metadata": {},
   "outputs": [],
   "source": [
    "mean = x_train.mean(axis=0)\n",
    "x_train -= mean\n",
    "std = x_train.std(axis=0)\n",
    "x_train /= std\n",
    "np.mean(x_train[:11])\n",
    "\n",
    "x_test -= mean\n",
    "x_test /= std\n",
    "\n",
    "x_val = x_train[:100]\n",
    "partial_x_train = x_train[100:]\n",
    "\n",
    "y_val = y_train[:100]\n",
    "partial_y_train = y_train[100:]"
   ]
  },
  {
   "cell_type": "code",
   "execution_count": 48,
   "metadata": {},
   "outputs": [],
   "source": [
    "from keras import models\n",
    "from keras import layers\n",
    "\n",
    "def build_model():\n",
    "    model = models.Sequential()\n",
    "    model.add(layers.Dense(64, activation='relu', input_shape=(x_test.shape[1],)))\n",
    "    model.add(layers.Dense(64, activation='relu'))\n",
    "    model.add(layers.Dense(1))\n",
    "    model.compile(optimizer='rmsprop', loss='mse', metrics=['mae'])\n",
    "    \n",
    "    return model"
   ]
  },
  {
   "cell_type": "code",
   "execution_count": 50,
   "metadata": {},
   "outputs": [
    {
     "data": {
      "text/plain": [
       "<keras.callbacks.History at 0x1c4eac78748>"
      ]
     },
     "execution_count": 50,
     "metadata": {},
     "output_type": "execute_result"
    }
   ],
   "source": [
    "num_epochs = 100\n",
    "model = build_model()\n",
    "history = model.fit(partial_x_train, partial_y_train, epochs=num_epochs, batch_size=1, verbose=0)\n",
    "mae = history.history['mean_absolute_error']\n"
   ]
  },
  {
   "cell_type": "code",
   "execution_count": 51,
   "metadata": {},
   "outputs": [
    {
     "data": {
      "text/plain": [
       "[11.31503015756607,\n",
       " 3.8719658694769206,\n",
       " 3.217895757210882,\n",
       " 2.8959456729261497,\n",
       " 2.7466011361071936,\n",
       " 2.685265922232678,\n",
       " 2.5822043465940574,\n",
       " 2.504238978812569,\n",
       " 2.4768380020794116,\n",
       " 2.4636840914425098,\n",
       " 2.3545726851413122,\n",
       " 2.3748744757551896,\n",
       " 2.285780451799694,\n",
       " 2.317303695176777,\n",
       " 2.295296317652652,\n",
       " 2.234931125452644,\n",
       " 2.230156256964332,\n",
       " 2.212102549640756,\n",
       " 2.2343368451846275,\n",
       " 2.2219221152757345,\n",
       " 2.137688330913845,\n",
       " 2.216315277312931,\n",
       " 2.1193298226908635,\n",
       " 2.1372016464409076,\n",
       " 2.081299363782531,\n",
       " 2.0966296368523647,\n",
       " 2.0953275059398853,\n",
       " 2.064487414924722,\n",
       " 2.0186272922315096,\n",
       " 1.9937201518761485,\n",
       " 2.010776425662794,\n",
       " 2.0507920180496417,\n",
       " 1.9264342675083561,\n",
       " 1.9428429415351467,\n",
       " 1.9334264287823124,\n",
       " 1.878556601311031,\n",
       " 1.9333016652809947,\n",
       " 1.8830834517353459,\n",
       " 1.9070749580860138,\n",
       " 1.9592969009750767,\n",
       " 1.8882561467195813,\n",
       " 1.9079100254334902,\n",
       " 1.8912289409261,\n",
       " 1.8417256709776426,\n",
       " 1.7994332407650195,\n",
       " 1.865280890151074,\n",
       " 1.8699242566761218,\n",
       " 1.8349467139495046,\n",
       " 1.7974023583688234,\n",
       " 1.7729373574256897,\n",
       " 1.751300025927393,\n",
       " 1.715497004358392,\n",
       " 1.748649808921312,\n",
       " 1.8104048951676017,\n",
       " 1.6927665613199536,\n",
       " 1.7589803871355558,\n",
       " 1.7256560121711932,\n",
       " 1.7262780666351318,\n",
       " 1.6961240925286944,\n",
       " 1.6349306451646906,\n",
       " 1.742481967336253,\n",
       " 1.6717250362822884,\n",
       " 1.6534217141176526,\n",
       " 1.6281708471084897,\n",
       " 1.7031108329170628,\n",
       " 1.6080837390924756,\n",
       " 1.6272802635243064,\n",
       " 1.6677297730194895,\n",
       " 1.6728808205378682,\n",
       " 1.6415919590937464,\n",
       " 1.6505668618177112,\n",
       " 1.5635795201125897,\n",
       " 1.5814607300256427,\n",
       " 1.6221716027510793,\n",
       " 1.6179777117151963,\n",
       " 1.5200535153087817,\n",
       " 1.6056028745676343,\n",
       " 1.5420740482054258,\n",
       " 1.557324103618923,\n",
       " 1.5933977647831565,\n",
       " 1.53424156339545,\n",
       " 1.5072517065625441,\n",
       " 1.5881291823951822,\n",
       " 1.4749249886525304,\n",
       " 1.5689798397453207,\n",
       " 1.5438188251696134,\n",
       " 1.4891494528243416,\n",
       " 1.5549982723436857,\n",
       " 1.4816545059806423,\n",
       " 1.4898767675224103,\n",
       " 1.46413081805957,\n",
       " 1.4911223430382579,\n",
       " 1.4706790823685496,\n",
       " 1.5003381465610706,\n",
       " 1.4241675750205391,\n",
       " 1.4748445184607255,\n",
       " 1.4828730539271706,\n",
       " 1.4040796223439669,\n",
       " 1.453918840540083,\n",
       " 1.4377662217930745]"
      ]
     },
     "execution_count": 51,
     "metadata": {},
     "output_type": "execute_result"
    }
   ],
   "source": [
    "mae"
   ]
  },
  {
   "cell_type": "code",
   "execution_count": 47,
   "metadata": {},
   "outputs": [
    {
     "data": {
      "text/plain": [
       "[<matplotlib.lines.Line2D at 0x1c4eaa4f6d8>]"
      ]
     },
     "execution_count": 47,
     "metadata": {},
     "output_type": "execute_result"
    },
    {
     "data": {
      "image/png": "[encoded data removed]",
      "text/plain": [
       "<Figure size 432x288 with 1 Axes>"
      ]
     },
     "metadata": {
      "needs_background": "light"
     },
     "output_type": "display_data"
    }
   ],
   "source": [
    "import matplotlib.pyplot as plt\n",
    "plt.plot(mae)"
   ]
  },
  {
   "cell_type": "code",
   "execution_count": 52,
   "metadata": {},
   "outputs": [
    {
     "name": "stdout",
     "output_type": "stream",
     "text": [
      "102/102 [==============================] - 0s 1ms/step\n"
     ]
    },
    {
     "data": {
      "text/plain": [
       "[2177.3415144378064, 39.928822386498545]"
      ]
     },
     "execution_count": 52,
     "metadata": {},
     "output_type": "execute_result"
    }
   ],
   "source": [
    "results = model.evaluate(x_test, y_test)\n",
    "results"
   ]
  },
  {
   "cell_type": "code",
   "execution_count": null,
   "metadata": {},
   "outputs": [],
   "source": []
  }
 ],
 "metadata": {
  "kernelspec": {
   "display_name": "Python 3",
   "language": "python",
   "name": "python3"
  },
  "language_info": {
   "codemirror_mode": {
    "name": "ipython",
    "version": 3
   },
   "file_extension": ".py",
   "mimetype": "text/x-python",
   "name": "python",
   "nbconvert_exporter": "python",
   "pygments_lexer": "ipython3",
   "version": "3.6.8"
  }
 },
 "nbformat": 4,
 "nbformat_minor": 2
}
