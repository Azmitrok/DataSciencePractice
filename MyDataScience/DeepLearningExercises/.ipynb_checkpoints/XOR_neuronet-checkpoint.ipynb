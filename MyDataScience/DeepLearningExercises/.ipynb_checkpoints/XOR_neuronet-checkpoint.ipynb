{
 "cells": [
  {
   "cell_type": "code",
   "execution_count": 40,
   "metadata": {},
   "outputs": [],
   "source": [
    "import math\n",
    "import numpy as np"
   ]
  },
  {
   "cell_type": "code",
   "execution_count": 51,
   "metadata": {},
   "outputs": [
    {
     "name": "stdout",
     "output_type": "stream",
     "text": [
      "[[0.7837985890347726, 0.30331272607892745, 0.4765969541523558]]\n"
     ]
    }
   ],
   "source": [
    "inputs = [[0,0],[0,1],[1,0],[1,1]]\n",
    "targets = [[0],[1],[1],[0]]\n",
    "\n",
    "\n",
    "import random\n",
    "random.seed(0)\n",
    "input_size = 2\n",
    "num_hidden = 2\n",
    "output_size = 1\n",
    "\n",
    "hidden_layers = [[random.random() for _ in range(input_size+1)] \n",
    "                for _ in range(num_hidden)]\n",
    "\n",
    "#print(hidden_layers)\n",
    "\n",
    "output_layer = [[random.random() for _ in range(num_hidden+1)] \n",
    "               for _ in range(output_size)]\n",
    "\n",
    "print(output_layer)\n",
    "\n",
    "network = [hidden_layers, output_layer]\n"
   ]
  },
  {
   "cell_type": "code",
   "execution_count": 64,
   "metadata": {},
   "outputs": [],
   "source": [
    "def sigmoid(t):\n",
    "    return 1/(1+math.exp(-t))\n",
    "\n",
    "def step_function(t):\n",
    "    return 1 if t > 0 else 0\n",
    "\n",
    "def neuron_output(weights, inputs):    \n",
    "    return sigmoid(np.dot(weights, inputs))\n",
    "    #return step_function(np.dot(weights, inputs))\n",
    "\n",
    "\n",
    "def feed_forward(neural_network, input_vector):\n",
    "    outputs = []\n",
    "    \n",
    "    for layer in neural_network:\n",
    "        \n",
    "        input_with_bias = input_vector + [1]\n",
    "        output = [neuron_output(neuron, input_with_bias)\n",
    "                 for neuron in layer]\n",
    "        outputs.append(output)\n",
    "        input_vector = output\n",
    "    \n",
    "    return outputs\n",
    "\n",
    "def backpropagate(network, input_vector, targets):\n",
    "    hidden_outputs, outputs = feed_forward(network, input_vector)\n",
    "    output_deltas = [output * (1 - output) * (output - targets[i])\n",
    "                     for i, output in enumerate(outputs)]\n",
    "    \n",
    "    #print(sum(output_deltas))\n",
    "    \n",
    "    for i, output_neuron in enumerate(network[-1]):\n",
    "        for j, hidden_output in enumerate(hidden_outputs +[1]):\n",
    "            output_neuron[j] -= output_deltas[i]*hidden_output\n",
    "    \n",
    "    hidden_deltas = [hidden_output *(1-hidden_output) *\n",
    "                    np.dot(output_deltas, [n[i] for n in output_layer])\n",
    "                    for i, hidden_output in enumerate(hidden_outputs)]\n",
    "    \n",
    "    for i, hidden_neuron in enumerate(network[0]):\n",
    "        for j, input in enumerate(input_vector + [1]):\n",
    "            hidden_neuron[j] -= hidden_deltas[i] * input"
   ]
  },
  {
   "cell_type": "code",
   "execution_count": 65,
   "metadata": {},
   "outputs": [],
   "source": [
    "for _ in range(1000):\n",
    "    for input_vector, target_vector in zip(inputs, targets):\n",
    "        backpropagate(network, input_vector, target_vector)"
   ]
  },
  {
   "cell_type": "code",
   "execution_count": 66,
   "metadata": {},
   "outputs": [
    {
     "data": {
      "text/plain": [
       "[[nan, nan, nan], [nan, nan, nan]]"
      ]
     },
     "execution_count": 66,
     "metadata": {},
     "output_type": "execute_result"
    }
   ],
   "source": [
    "network[0]"
   ]
  },
  {
   "cell_type": "code",
   "execution_count": 60,
   "metadata": {},
   "outputs": [],
   "source": [
    "def predict(input):\n",
    "        return feed_forward(network, input)[-1]"
   ]
  },
  {
   "cell_type": "code",
   "execution_count": 61,
   "metadata": {},
   "outputs": [
    {
     "name": "stdout",
     "output_type": "stream",
     "text": [
      "[0.06693815646365109]\n",
      "[0.9345854023935146]\n",
      "[0.9331348037315789]\n",
      "[0.07261359850388957]\n"
     ]
    }
   ],
   "source": [
    "print(predict([0,0]))\n",
    "print(predict([1,0]))\n",
    "print(predict([0,1]))\n",
    "print(predict([1,1]))"
   ]
  },
  {
   "cell_type": "code",
   "execution_count": null,
   "metadata": {},
   "outputs": [],
   "source": []
  }
 ],
 "metadata": {
  "kernelspec": {
   "display_name": "Python 3",
   "language": "python",
   "name": "python3"
  },
  "language_info": {
   "codemirror_mode": {
    "name": "ipython",
    "version": 3
   },
   "file_extension": ".py",
   "mimetype": "text/x-python",
   "name": "python",
   "nbconvert_exporter": "python",
   "pygments_lexer": "ipython3",
   "version": "3.6.8"
  }
 },
 "nbformat": 4,
 "nbformat_minor": 2
}
