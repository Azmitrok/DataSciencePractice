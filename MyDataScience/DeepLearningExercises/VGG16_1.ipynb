{
 "cells": [
  {
   "cell_type": "code",
   "execution_count": 2,
   "metadata": {},
   "outputs": [],
   "source": [
    "from keras.applications import VGG16\n",
    "\n",
    "conv_base = VGG16(weights='imagenet', include_top=False, input_shape=(150,150,3))"
   ]
  },
  {
   "cell_type": "markdown",
   "metadata": {},
   "source": [
    "## Extract features"
   ]
  },
  {
   "cell_type": "code",
   "execution_count": 9,
   "metadata": {
    "scrolled": false
   },
   "outputs": [
    {
     "name": "stdout",
     "output_type": "stream",
     "text": [
      "C://Work/DataScience/Data/PetImages/train\n"
     ]
    }
   ],
   "source": [
    "import os\n",
    "import numpy as np\n",
    "from keras.preprocessing.image import ImageDataGenerator\n",
    "\n",
    "base_dir='C://Work/DataScience/Data/PetImages/'\n",
    "train_dir = os.path.join(base_dir, 'train')\n",
    "validation_dir = os.path.join(base_dir, 'validation')\n",
    "test_dir = os.path.join(base_dir, 'test')\n",
    "print(train_dir)\n",
    "\n",
    "datagen = ImageDataGenerator(rescale = 1./255)\n",
    "\n",
    "batch_size = 20\n"
   ]
  },
  {
   "cell_type": "code",
   "execution_count": 12,
   "metadata": {},
   "outputs": [
    {
     "name": "stdout",
     "output_type": "stream",
     "text": [
      "Found 2000 images belonging to 2 classes.\n",
      "2000\n",
      "Found 1000 images belonging to 2 classes.\n",
      "1000\n",
      "Found 1000 images belonging to 2 classes.\n",
      "1000\n"
     ]
    },
    {
     "data": {
      "text/plain": [
       "array([[[[4.85752016e-01, 0.00000000e+00, 0.00000000e+00, ...,\n",
       "          0.00000000e+00, 4.34649467e-01, 0.00000000e+00],\n",
       "         [6.77352130e-01, 0.00000000e+00, 9.98424411e-01, ...,\n",
       "          0.00000000e+00, 3.86022121e-01, 0.00000000e+00],\n",
       "         [2.80903339e-01, 0.00000000e+00, 1.30284500e+00, ...,\n",
       "          0.00000000e+00, 7.63859510e-01, 0.00000000e+00],\n",
       "         [0.00000000e+00, 0.00000000e+00, 3.11002851e-01, ...,\n",
       "          0.00000000e+00, 7.85706520e-01, 0.00000000e+00]],\n",
       "\n",
       "        [[0.00000000e+00, 0.00000000e+00, 0.00000000e+00, ...,\n",
       "          2.74700731e-01, 3.67850065e-01, 0.00000000e+00],\n",
       "         [1.26535118e-01, 0.00000000e+00, 7.22231865e-01, ...,\n",
       "          4.69281487e-02, 3.05758119e-02, 0.00000000e+00],\n",
       "         [6.44683093e-02, 0.00000000e+00, 1.49969065e+00, ...,\n",
       "          3.48314419e-02, 8.61231089e-01, 0.00000000e+00],\n",
       "         [0.00000000e+00, 0.00000000e+00, 8.72698069e-01, ...,\n",
       "          0.00000000e+00, 7.61373818e-01, 0.00000000e+00]],\n",
       "\n",
       "        [[3.98657620e-01, 0.00000000e+00, 0.00000000e+00, ...,\n",
       "          0.00000000e+00, 5.13628006e-01, 0.00000000e+00],\n",
       "         [6.44416034e-01, 0.00000000e+00, 9.73943114e-01, ...,\n",
       "          0.00000000e+00, 2.72866845e-01, 0.00000000e+00],\n",
       "         [3.88721406e-01, 0.00000000e+00, 1.16674268e+00, ...,\n",
       "          5.61073422e-03, 5.27528942e-01, 0.00000000e+00],\n",
       "         [3.66695762e-01, 0.00000000e+00, 1.07074833e+00, ...,\n",
       "          0.00000000e+00, 7.42504895e-01, 0.00000000e+00]],\n",
       "\n",
       "        [[0.00000000e+00, 0.00000000e+00, 0.00000000e+00, ...,\n",
       "          0.00000000e+00, 6.21794999e-01, 0.00000000e+00],\n",
       "         [6.63683712e-01, 0.00000000e+00, 2.49262810e-01, ...,\n",
       "          0.00000000e+00, 1.02710295e+00, 0.00000000e+00],\n",
       "         [8.02119374e-01, 0.00000000e+00, 4.37673897e-01, ...,\n",
       "          0.00000000e+00, 1.24144423e+00, 0.00000000e+00],\n",
       "         [0.00000000e+00, 0.00000000e+00, 2.19770670e-02, ...,\n",
       "          0.00000000e+00, 1.01542187e+00, 0.00000000e+00]]],\n",
       "\n",
       "\n",
       "       [[[1.11198854e+00, 0.00000000e+00, 0.00000000e+00, ...,\n",
       "          0.00000000e+00, 8.16814303e-01, 0.00000000e+00],\n",
       "         [9.36387956e-01, 0.00000000e+00, 0.00000000e+00, ...,\n",
       "          0.00000000e+00, 1.96766257e-01, 0.00000000e+00],\n",
       "         [2.11528584e-01, 0.00000000e+00, 0.00000000e+00, ...,\n",
       "          0.00000000e+00, 4.25929010e-01, 0.00000000e+00],\n",
       "         [4.37297612e-01, 0.00000000e+00, 0.00000000e+00, ...,\n",
       "          0.00000000e+00, 3.16348523e-01, 0.00000000e+00]],\n",
       "\n",
       "        [[4.02028143e-01, 0.00000000e+00, 6.90622330e-02, ...,\n",
       "          0.00000000e+00, 8.47079158e-01, 0.00000000e+00],\n",
       "         [0.00000000e+00, 0.00000000e+00, 6.09030962e-01, ...,\n",
       "          0.00000000e+00, 5.69885492e-01, 0.00000000e+00],\n",
       "         [0.00000000e+00, 0.00000000e+00, 1.21061158e+00, ...,\n",
       "          0.00000000e+00, 9.20790613e-01, 0.00000000e+00],\n",
       "         [7.25381017e-01, 0.00000000e+00, 1.02953506e+00, ...,\n",
       "          0.00000000e+00, 7.18889594e-01, 0.00000000e+00]],\n",
       "\n",
       "        [[0.00000000e+00, 0.00000000e+00, 9.84270275e-02, ...,\n",
       "          0.00000000e+00, 6.34934008e-01, 0.00000000e+00],\n",
       "         [0.00000000e+00, 0.00000000e+00, 1.39012980e+00, ...,\n",
       "          0.00000000e+00, 7.05879509e-01, 0.00000000e+00],\n",
       "         [0.00000000e+00, 0.00000000e+00, 1.55547047e+00, ...,\n",
       "          0.00000000e+00, 8.24671090e-01, 0.00000000e+00],\n",
       "         [2.30450511e-01, 0.00000000e+00, 1.32225442e+00, ...,\n",
       "          0.00000000e+00, 6.77468061e-01, 0.00000000e+00]],\n",
       "\n",
       "        [[1.35566965e-01, 0.00000000e+00, 0.00000000e+00, ...,\n",
       "          0.00000000e+00, 6.38477802e-01, 0.00000000e+00],\n",
       "         [1.14982501e-01, 0.00000000e+00, 1.31124389e+00, ...,\n",
       "          0.00000000e+00, 5.59792876e-01, 0.00000000e+00],\n",
       "         [3.00743878e-02, 0.00000000e+00, 2.11661601e+00, ...,\n",
       "          0.00000000e+00, 0.00000000e+00, 0.00000000e+00],\n",
       "         [0.00000000e+00, 0.00000000e+00, 1.79949760e+00, ...,\n",
       "          2.59072632e-02, 6.33640289e-02, 0.00000000e+00]]],\n",
       "\n",
       "\n",
       "       [[[0.00000000e+00, 0.00000000e+00, 0.00000000e+00, ...,\n",
       "          0.00000000e+00, 8.12863290e-01, 0.00000000e+00],\n",
       "         [9.46121663e-02, 0.00000000e+00, 0.00000000e+00, ...,\n",
       "          0.00000000e+00, 1.19905114e+00, 0.00000000e+00],\n",
       "         [1.45382524e-01, 0.00000000e+00, 1.76423788e-03, ...,\n",
       "          0.00000000e+00, 1.15411580e+00, 0.00000000e+00],\n",
       "         [5.46035647e-01, 0.00000000e+00, 1.29733890e-01, ...,\n",
       "          0.00000000e+00, 8.24364185e-01, 0.00000000e+00]],\n",
       "\n",
       "        [[0.00000000e+00, 0.00000000e+00, 1.17663503e+00, ...,\n",
       "          6.17230356e-01, 3.50141972e-01, 0.00000000e+00],\n",
       "         [4.63447690e-01, 0.00000000e+00, 1.36843967e+00, ...,\n",
       "          1.02175260e+00, 6.93906724e-01, 0.00000000e+00],\n",
       "         [8.14449668e-01, 0.00000000e+00, 5.53572416e-01, ...,\n",
       "          8.68981183e-01, 8.15974414e-01, 0.00000000e+00],\n",
       "         [1.03194833e+00, 0.00000000e+00, 8.14001083e-01, ...,\n",
       "          4.01812524e-01, 5.54973066e-01, 0.00000000e+00]],\n",
       "\n",
       "        [[2.60844737e-01, 0.00000000e+00, 1.30975306e+00, ...,\n",
       "          4.48568612e-01, 9.62077379e-01, 0.00000000e+00],\n",
       "         [3.44856441e-01, 0.00000000e+00, 1.27586234e+00, ...,\n",
       "          6.80192351e-01, 1.77701205e-01, 3.66288945e-02],\n",
       "         [1.18379712e+00, 0.00000000e+00, 6.52547240e-01, ...,\n",
       "          3.07831764e-02, 3.93175066e-01, 1.30625054e-01],\n",
       "         [1.14808869e+00, 0.00000000e+00, 4.94595319e-01, ...,\n",
       "          0.00000000e+00, 7.11285889e-01, 0.00000000e+00]],\n",
       "\n",
       "        [[4.83429223e-01, 0.00000000e+00, 3.88365328e-01, ...,\n",
       "          0.00000000e+00, 1.02364254e+00, 0.00000000e+00],\n",
       "         [2.99425155e-01, 0.00000000e+00, 8.17037106e-01, ...,\n",
       "          0.00000000e+00, 2.30535060e-01, 0.00000000e+00],\n",
       "         [1.18807197e+00, 0.00000000e+00, 8.12136889e-01, ...,\n",
       "          0.00000000e+00, 2.74552703e-02, 0.00000000e+00],\n",
       "         [1.24832368e+00, 0.00000000e+00, 6.48590326e-01, ...,\n",
       "          0.00000000e+00, 4.87680078e-01, 0.00000000e+00]]],\n",
       "\n",
       "\n",
       "       ...,\n",
       "\n",
       "\n",
       "       [[[5.85870147e-01, 0.00000000e+00, 0.00000000e+00, ...,\n",
       "          0.00000000e+00, 9.36537564e-01, 0.00000000e+00],\n",
       "         [6.15749359e-02, 0.00000000e+00, 0.00000000e+00, ...,\n",
       "          0.00000000e+00, 2.65740752e-01, 0.00000000e+00],\n",
       "         [0.00000000e+00, 0.00000000e+00, 1.14811689e-01, ...,\n",
       "          0.00000000e+00, 1.72733843e-01, 0.00000000e+00],\n",
       "         [2.57795483e-01, 0.00000000e+00, 9.13599133e-02, ...,\n",
       "          0.00000000e+00, 4.09533978e-01, 0.00000000e+00]],\n",
       "\n",
       "        [[8.09881449e-01, 0.00000000e+00, 1.38135314e-01, ...,\n",
       "          0.00000000e+00, 6.80815518e-01, 0.00000000e+00],\n",
       "         [0.00000000e+00, 0.00000000e+00, 6.87596023e-01, ...,\n",
       "          1.86593831e-01, 1.26540661e-01, 0.00000000e+00],\n",
       "         [0.00000000e+00, 0.00000000e+00, 0.00000000e+00, ...,\n",
       "          0.00000000e+00, 0.00000000e+00, 0.00000000e+00],\n",
       "         [0.00000000e+00, 0.00000000e+00, 7.19340146e-02, ...,\n",
       "          0.00000000e+00, 9.72614288e-02, 0.00000000e+00]],\n",
       "\n",
       "        [[5.55728078e-01, 0.00000000e+00, 4.44122910e-01, ...,\n",
       "          0.00000000e+00, 8.11653078e-01, 0.00000000e+00],\n",
       "         [7.34988451e-02, 0.00000000e+00, 9.88839269e-01, ...,\n",
       "          0.00000000e+00, 5.30044317e-01, 0.00000000e+00],\n",
       "         [2.96994925e-01, 0.00000000e+00, 2.24671602e-01, ...,\n",
       "          0.00000000e+00, 0.00000000e+00, 0.00000000e+00],\n",
       "         [6.52038097e-01, 0.00000000e+00, 3.73172134e-01, ...,\n",
       "          1.36206150e-01, 0.00000000e+00, 0.00000000e+00]],\n",
       "\n",
       "        [[1.92186281e-01, 0.00000000e+00, 0.00000000e+00, ...,\n",
       "          0.00000000e+00, 9.78541732e-01, 0.00000000e+00],\n",
       "         [4.06136215e-01, 0.00000000e+00, 6.32138848e-02, ...,\n",
       "          0.00000000e+00, 7.04056978e-01, 0.00000000e+00],\n",
       "         [9.74781096e-01, 0.00000000e+00, 0.00000000e+00, ...,\n",
       "          0.00000000e+00, 1.65423542e-01, 0.00000000e+00],\n",
       "         [8.21174264e-01, 0.00000000e+00, 0.00000000e+00, ...,\n",
       "          0.00000000e+00, 0.00000000e+00, 0.00000000e+00]]],\n",
       "\n",
       "\n",
       "       [[[7.63815939e-01, 0.00000000e+00, 1.07380450e-01, ...,\n",
       "          0.00000000e+00, 3.71548712e-01, 0.00000000e+00],\n",
       "         [1.73258209e+00, 0.00000000e+00, 2.71991342e-01, ...,\n",
       "          0.00000000e+00, 1.96765780e-01, 0.00000000e+00],\n",
       "         [1.93511248e+00, 0.00000000e+00, 0.00000000e+00, ...,\n",
       "          0.00000000e+00, 8.83933783e-01, 0.00000000e+00],\n",
       "         [1.14005280e+00, 0.00000000e+00, 0.00000000e+00, ...,\n",
       "          0.00000000e+00, 7.75870562e-01, 0.00000000e+00]],\n",
       "\n",
       "        [[6.44617558e-01, 0.00000000e+00, 1.31202161e-01, ...,\n",
       "          0.00000000e+00, 5.31666040e-01, 0.00000000e+00],\n",
       "         [1.16341543e+00, 0.00000000e+00, 4.79305685e-02, ...,\n",
       "          0.00000000e+00, 7.11205423e-01, 0.00000000e+00],\n",
       "         [1.51045609e+00, 0.00000000e+00, 3.89112949e-01, ...,\n",
       "          0.00000000e+00, 5.77625036e-01, 0.00000000e+00],\n",
       "         [8.24560404e-01, 0.00000000e+00, 2.85428256e-01, ...,\n",
       "          0.00000000e+00, 8.28503609e-01, 0.00000000e+00]],\n",
       "\n",
       "        [[7.07390070e-01, 0.00000000e+00, 0.00000000e+00, ...,\n",
       "          0.00000000e+00, 5.36316574e-01, 0.00000000e+00],\n",
       "         [0.00000000e+00, 0.00000000e+00, 0.00000000e+00, ...,\n",
       "          0.00000000e+00, 3.41035724e-01, 0.00000000e+00],\n",
       "         [0.00000000e+00, 0.00000000e+00, 1.04133010e-01, ...,\n",
       "          0.00000000e+00, 0.00000000e+00, 0.00000000e+00],\n",
       "         [0.00000000e+00, 0.00000000e+00, 1.47642970e-01, ...,\n",
       "          0.00000000e+00, 5.46672821e-01, 0.00000000e+00]],\n",
       "\n",
       "        [[6.31592274e-01, 0.00000000e+00, 0.00000000e+00, ...,\n",
       "          0.00000000e+00, 5.79091787e-01, 0.00000000e+00],\n",
       "         [0.00000000e+00, 0.00000000e+00, 0.00000000e+00, ...,\n",
       "          0.00000000e+00, 6.41055703e-02, 0.00000000e+00],\n",
       "         [1.04386777e-01, 0.00000000e+00, 0.00000000e+00, ...,\n",
       "          0.00000000e+00, 0.00000000e+00, 0.00000000e+00],\n",
       "         [0.00000000e+00, 0.00000000e+00, 0.00000000e+00, ...,\n",
       "          0.00000000e+00, 6.15004957e-01, 0.00000000e+00]]],\n",
       "\n",
       "\n",
       "       [[[1.52115583e-01, 0.00000000e+00, 0.00000000e+00, ...,\n",
       "          0.00000000e+00, 7.41969287e-01, 0.00000000e+00],\n",
       "         [8.98366719e-02, 0.00000000e+00, 1.05556345e+00, ...,\n",
       "          2.25569919e-01, 2.56727427e-01, 0.00000000e+00],\n",
       "         [1.49351805e-02, 0.00000000e+00, 1.06291819e+00, ...,\n",
       "          1.32784113e-01, 3.72971147e-01, 0.00000000e+00],\n",
       "         [0.00000000e+00, 0.00000000e+00, 2.06089616e-02, ...,\n",
       "          0.00000000e+00, 5.36169052e-01, 0.00000000e+00]],\n",
       "\n",
       "        [[5.09724736e-01, 0.00000000e+00, 8.11824024e-01, ...,\n",
       "          4.35806870e-01, 6.71173811e-01, 0.00000000e+00],\n",
       "         [3.55721772e-01, 0.00000000e+00, 2.53249383e+00, ...,\n",
       "          7.23827660e-01, 0.00000000e+00, 9.77053270e-02],\n",
       "         [1.88415393e-01, 0.00000000e+00, 2.13136482e+00, ...,\n",
       "          4.35008019e-01, 0.00000000e+00, 0.00000000e+00],\n",
       "         [0.00000000e+00, 0.00000000e+00, 1.09987354e+00, ...,\n",
       "          5.22917092e-01, 0.00000000e+00, 0.00000000e+00]],\n",
       "\n",
       "        [[6.60764396e-01, 0.00000000e+00, 2.33558267e-01, ...,\n",
       "          0.00000000e+00, 6.14927709e-01, 0.00000000e+00],\n",
       "         [3.52623224e-01, 9.36982691e-01, 2.17141509e+00, ...,\n",
       "          6.27576172e-01, 0.00000000e+00, 5.99389598e-02],\n",
       "         [0.00000000e+00, 3.06307137e-01, 1.80184865e+00, ...,\n",
       "          5.44872642e-01, 2.90993422e-01, 0.00000000e+00],\n",
       "         [0.00000000e+00, 0.00000000e+00, 4.28816319e-01, ...,\n",
       "          0.00000000e+00, 8.97246480e-01, 0.00000000e+00]],\n",
       "\n",
       "        [[0.00000000e+00, 0.00000000e+00, 0.00000000e+00, ...,\n",
       "          0.00000000e+00, 2.11291105e-01, 0.00000000e+00],\n",
       "         [0.00000000e+00, 1.49691164e-01, 1.00900173e+00, ...,\n",
       "          2.61061698e-01, 0.00000000e+00, 0.00000000e+00],\n",
       "         [8.26634914e-02, 0.00000000e+00, 8.34132910e-01, ...,\n",
       "          0.00000000e+00, 6.31857395e-01, 0.00000000e+00],\n",
       "         [1.32874161e-01, 0.00000000e+00, 0.00000000e+00, ...,\n",
       "          0.00000000e+00, 1.09474349e+00, 0.00000000e+00]]]])"
      ]
     },
     "execution_count": 12,
     "metadata": {},
     "output_type": "execute_result"
    }
   ],
   "source": [
    "def extract_features(directory, sample_count):\n",
    "    features = np.zeros(shape=(sample_count, 4, 4, 512))\n",
    "    labels = np.zeros(shape=(sample_count))\n",
    "    generator = datagen.flow_from_directory(\n",
    "        directory,\n",
    "        color_mode=\"rgb\",\n",
    "        target_size = (150, 150),\n",
    "        batch_size=batch_size,\n",
    "        class_mode='binary'\n",
    "    )\n",
    "    print(generator.n)\n",
    "    i = 0\n",
    "    for inputs_batch, labels_batch in generator:\n",
    "        features_batch = conv_base.predict(inputs_batch)\n",
    "        features[i*batch_size : (i+1)*batch_size] = features_batch\n",
    "        labels[i*batch_size: (i+1)*batch_size] = labels_batch\n",
    "        i += 1\n",
    "        if i*batch_size >= sample_count:\n",
    "            break\n",
    "    return features, labels\n",
    "\n",
    "train_features, train_labels = extract_features(train_dir, 2000)\n",
    "validation_features, validation_labels = extract_features(validation_dir, 1000)\n",
    "test_features, test_labels = extract_features(test_dir, 1000)\n",
    "\n"
   ]
  },
  {
   "cell_type": "code",
   "execution_count": 19,
   "metadata": {},
   "outputs": [
    {
     "data": {
      "text/plain": [
       "(2000, 4, 4, 512)"
      ]
     },
     "execution_count": 19,
     "metadata": {},
     "output_type": "execute_result"
    }
   ],
   "source": [
    "train_features.shape"
   ]
  },
  {
   "cell_type": "code",
   "execution_count": 21,
   "metadata": {},
   "outputs": [],
   "source": [
    "train_features = np.reshape(train_features, (2000, 4*4*512))\n",
    "validation_features = np.reshape(validation_features, (1000, 4*4*512))\n",
    "test_features = np.reshape(test_features, (1000, 4*4*512))"
   ]
  },
  {
   "cell_type": "markdown",
   "metadata": {},
   "source": [
    "## Train classifier"
   ]
  },
  {
   "cell_type": "code",
   "execution_count": 23,
   "metadata": {},
   "outputs": [
    {
     "name": "stdout",
     "output_type": "stream",
     "text": [
      "Train on 2000 samples, validate on 1000 samples\n",
      "Epoch 1/10\n",
      "2000/2000 [==============================] - 5s 3ms/step - loss: 1.0275 - acc: 0.7345 - val_loss: 0.3247 - val_acc: 0.8640\n",
      "Epoch 2/10\n",
      "2000/2000 [==============================] - 4s 2ms/step - loss: 0.3543 - acc: 0.8440 - val_loss: 0.3029 - val_acc: 0.8730\n",
      "Epoch 3/10\n",
      "2000/2000 [==============================] - 4s 2ms/step - loss: 0.2855 - acc: 0.8780 - val_loss: 0.2794 - val_acc: 0.8880\n",
      "Epoch 4/10\n",
      "2000/2000 [==============================] - 4s 2ms/step - loss: 0.2488 - acc: 0.8970 - val_loss: 0.2614 - val_acc: 0.9000\n",
      "Epoch 5/10\n",
      "2000/2000 [==============================] - 4s 2ms/step - loss: 0.2319 - acc: 0.9075 - val_loss: 0.2759 - val_acc: 0.9000\n",
      "Epoch 6/10\n",
      "2000/2000 [==============================] - 4s 2ms/step - loss: 0.1912 - acc: 0.9290 - val_loss: 0.3112 - val_acc: 0.8880\n",
      "Epoch 7/10\n",
      "2000/2000 [==============================] - 4s 2ms/step - loss: 0.1806 - acc: 0.9290 - val_loss: 0.3839 - val_acc: 0.8800\n",
      "Epoch 8/10\n",
      "2000/2000 [==============================] - 4s 2ms/step - loss: 0.1668 - acc: 0.9400 - val_loss: 0.4050 - val_acc: 0.8710\n",
      "Epoch 9/10\n",
      "2000/2000 [==============================] - 4s 2ms/step - loss: 0.1314 - acc: 0.9510 - val_loss: 0.3745 - val_acc: 0.8780\n",
      "Epoch 10/10\n",
      "2000/2000 [==============================] - 4s 2ms/step - loss: 0.1207 - acc: 0.9550 - val_loss: 0.4361 - val_acc: 0.8750\n"
     ]
    }
   ],
   "source": [
    "from keras import models\n",
    "from keras import layers\n",
    "from keras import optimizers\n",
    "\n",
    "model = models.Sequential()\n",
    "model.add(layers.Dense(256, activation='relu', input_dim=4*4*512))\n",
    "model.add(layers.Dropout(0.5))\n",
    "model.add(layers.Dense(1, activation='sigmoid'))\n",
    "\n",
    "model.compile(optimizer=optimizers.RMSprop(lr=0.001), loss='binary_crossentropy', metrics=['acc'])\n",
    "\n",
    "history = model.fit(train_features, \n",
    "                    train_labels, \n",
    "                    epochs=10, \n",
    "                    batch_size=20, \n",
    "                    validation_data=(validation_features, validation_labels))"
   ]
  },
  {
   "cell_type": "markdown",
   "metadata": {},
   "source": [
    "## Charts"
   ]
  },
  {
   "cell_type": "code",
   "execution_count": 24,
   "metadata": {},
   "outputs": [
    {
     "data": {
      "image/png": "[encoded data removed]",
      "text/plain": [
       "<Figure size 432x288 with 1 Axes>"
      ]
     },
     "metadata": {
      "needs_background": "light"
     },
     "output_type": "display_data"
    },
    {
     "data": {
      "image/png": "[encoded data removed]",
      "text/plain": [
       "<Figure size 432x288 with 1 Axes>"
      ]
     },
     "metadata": {
      "needs_background": "light"
     },
     "output_type": "display_data"
    }
   ],
   "source": [
    "import matplotlib.pyplot as plt\n",
    "\n",
    "acc = history.history['acc']\n",
    "val_acc = history.history['val_acc']\n",
    "loss = history.history['loss']\n",
    "val_loss = history.history['val_loss']\n",
    "\n",
    "epochs = range(1, len(acc) + 1)\n",
    "\n",
    "plt.plot(epochs, acc, 'bo', label='Trainig acc')\n",
    "plt.plot(epochs, val_acc, 'b', label='Validation acc')\n",
    "plt.title('Training and validation accuracy')\n",
    "plt.legend()\n",
    "plt.figure()\n",
    "\n",
    "plt.plot(epochs, loss, 'bo', label='Trainig loss')\n",
    "plt.plot(epochs, val_loss, 'b', label='Validation loss')\n",
    "plt.title('Training and validation loss')\n",
    "plt.legend()\n",
    "\n",
    "plt.show()"
   ]
  },
  {
   "cell_type": "code",
   "execution_count": null,
   "metadata": {},
   "outputs": [],
   "source": []
  }
 ],
 "metadata": {
  "kernelspec": {
   "display_name": "Python 3",
   "language": "python",
   "name": "python3"
  },
  "language_info": {
   "codemirror_mode": {
    "name": "ipython",
    "version": 3
   },
   "file_extension": ".py",
   "mimetype": "text/x-python",
   "name": "python",
   "nbconvert_exporter": "python",
   "pygments_lexer": "ipython3",
   "version": "3.6.8"
  }
 },
 "nbformat": 4,
 "nbformat_minor": 2
}
