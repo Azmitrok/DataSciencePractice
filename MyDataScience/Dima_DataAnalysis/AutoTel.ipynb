{
 "cells": [
  {
   "cell_type": "code",
   "execution_count": 147,
   "metadata": {},
   "outputs": [],
   "source": [
    "import numpy as np\n",
    "import pandas as pd\n",
    "import seaborn as sns\n",
    "sns.set()"
   ]
  },
  {
   "cell_type": "code",
   "execution_count": 148,
   "metadata": {},
   "outputs": [
    {
     "data": {
      "text/html": [
       "<div>\n",
       "<style scoped>\n",
       "    .dataframe tbody tr th:only-of-type {\n",
       "        vertical-align: middle;\n",
       "    }\n",
       "\n",
       "    .dataframe tbody tr th {\n",
       "        vertical-align: top;\n",
       "    }\n",
       "\n",
       "    .dataframe thead th {\n",
       "        text-align: right;\n",
       "    }\n",
       "</style>\n",
       "<table border=\"1\" class=\"dataframe\">\n",
       "  <thead>\n",
       "    <tr style=\"text-align: right;\">\n",
       "      <th></th>\n",
       "      <th>activeCarHere</th>\n",
       "      <th>capacity</th>\n",
       "      <th>carsList</th>\n",
       "      <th>distance</th>\n",
       "      <th>id</th>\n",
       "      <th>latitude</th>\n",
       "      <th>longitude</th>\n",
       "      <th>modelsList</th>\n",
       "      <th>parkingAddress</th>\n",
       "      <th>showMarker</th>\n",
       "      <th>timestamp</th>\n",
       "      <th>total_cars</th>\n",
       "      <th>typeId</th>\n",
       "    </tr>\n",
       "  </thead>\n",
       "  <tbody>\n",
       "    <tr>\n",
       "      <th>0</th>\n",
       "      <td>True</td>\n",
       "      <td>NaN</td>\n",
       "      <td>[53]</td>\n",
       "      <td>4.6</td>\n",
       "      <td>63016480</td>\n",
       "      <td>32.04349</td>\n",
       "      <td>34.78069</td>\n",
       "      <td>[10]</td>\n",
       "      <td>[{'languageId': 0, 'text': 'אחרון 21, תל אביב ...</td>\n",
       "      <td>True</td>\n",
       "      <td>2019-01-10 09:09:43.245166 UTC</td>\n",
       "      <td>1</td>\n",
       "      <td>NaN</td>\n",
       "    </tr>\n",
       "    <tr>\n",
       "      <th>1</th>\n",
       "      <td>True</td>\n",
       "      <td>NaN</td>\n",
       "      <td>[53]</td>\n",
       "      <td>4.6</td>\n",
       "      <td>84487389</td>\n",
       "      <td>32.04349</td>\n",
       "      <td>34.78069</td>\n",
       "      <td>[10]</td>\n",
       "      <td>[{'languageId': 0, 'text': 'אחרון 21, תל אביב ...</td>\n",
       "      <td>True</td>\n",
       "      <td>2019-01-10 09:11:48.173801 UTC</td>\n",
       "      <td>1</td>\n",
       "      <td>NaN</td>\n",
       "    </tr>\n",
       "    <tr>\n",
       "      <th>2</th>\n",
       "      <td>True</td>\n",
       "      <td>NaN</td>\n",
       "      <td>[53]</td>\n",
       "      <td>4.6</td>\n",
       "      <td>46688801</td>\n",
       "      <td>32.04349</td>\n",
       "      <td>34.78069</td>\n",
       "      <td>[10]</td>\n",
       "      <td>[{'languageId': 0, 'text': 'אחרון 21, תל אביב ...</td>\n",
       "      <td>True</td>\n",
       "      <td>2019-01-10 09:13:53.222656 UTC</td>\n",
       "      <td>1</td>\n",
       "      <td>NaN</td>\n",
       "    </tr>\n",
       "    <tr>\n",
       "      <th>3</th>\n",
       "      <td>True</td>\n",
       "      <td>NaN</td>\n",
       "      <td>[53]</td>\n",
       "      <td>4.6</td>\n",
       "      <td>18964470</td>\n",
       "      <td>32.04349</td>\n",
       "      <td>34.78069</td>\n",
       "      <td>[10]</td>\n",
       "      <td>[{'languageId': 0, 'text': 'אחרון 21, תל אביב ...</td>\n",
       "      <td>True</td>\n",
       "      <td>2019-01-10 09:15:58.332911 UTC</td>\n",
       "      <td>1</td>\n",
       "      <td>NaN</td>\n",
       "    </tr>\n",
       "    <tr>\n",
       "      <th>4</th>\n",
       "      <td>True</td>\n",
       "      <td>NaN</td>\n",
       "      <td>[53]</td>\n",
       "      <td>4.6</td>\n",
       "      <td>83417014</td>\n",
       "      <td>32.04349</td>\n",
       "      <td>34.78069</td>\n",
       "      <td>[10]</td>\n",
       "      <td>[{'languageId': 0, 'text': 'אחרון 21, תל אביב ...</td>\n",
       "      <td>True</td>\n",
       "      <td>2019-01-10 09:18:03.222304 UTC</td>\n",
       "      <td>1</td>\n",
       "      <td>NaN</td>\n",
       "    </tr>\n",
       "  </tbody>\n",
       "</table>\n",
       "</div>"
      ],
      "text/plain": [
       "   activeCarHere  capacity carsList  distance        id  latitude  longitude  \\\n",
       "0           True       NaN     [53]       4.6  63016480  32.04349   34.78069   \n",
       "1           True       NaN     [53]       4.6  84487389  32.04349   34.78069   \n",
       "2           True       NaN     [53]       4.6  46688801  32.04349   34.78069   \n",
       "3           True       NaN     [53]       4.6  18964470  32.04349   34.78069   \n",
       "4           True       NaN     [53]       4.6  83417014  32.04349   34.78069   \n",
       "\n",
       "  modelsList                                     parkingAddress  showMarker  \\\n",
       "0       [10]  [{'languageId': 0, 'text': 'אחרון 21, תל אביב ...        True   \n",
       "1       [10]  [{'languageId': 0, 'text': 'אחרון 21, תל אביב ...        True   \n",
       "2       [10]  [{'languageId': 0, 'text': 'אחרון 21, תל אביב ...        True   \n",
       "3       [10]  [{'languageId': 0, 'text': 'אחרון 21, תל אביב ...        True   \n",
       "4       [10]  [{'languageId': 0, 'text': 'אחרון 21, תל אביב ...        True   \n",
       "\n",
       "                        timestamp  total_cars  typeId  \n",
       "0  2019-01-10 09:09:43.245166 UTC           1     NaN  \n",
       "1  2019-01-10 09:11:48.173801 UTC           1     NaN  \n",
       "2  2019-01-10 09:13:53.222656 UTC           1     NaN  \n",
       "3  2019-01-10 09:15:58.332911 UTC           1     NaN  \n",
       "4  2019-01-10 09:18:03.222304 UTC           1     NaN  "
      ]
     },
     "execution_count": 148,
     "metadata": {},
     "output_type": "execute_result"
    }
   ],
   "source": [
    "df = pd.read_csv('AutoTel.csv')\n",
    "df = df.drop(['inactive'], axis=1)\n",
    "df.head()"
   ]
  },
  {
   "cell_type": "code",
   "execution_count": 149,
   "metadata": {},
   "outputs": [
    {
     "data": {
      "text/plain": [
       "array(['[53]', '[56]', '[]', '[142]', '[183]', '[171]', '[116, 171]',\n",
       "       '[62]', '[146]', '[241]', '[100]', '[17, 100]', '[17]', '[67]',\n",
       "       '[67, 117]', '[76]', '[66]', '[226]'], dtype=object)"
      ]
     },
     "execution_count": 149,
     "metadata": {},
     "output_type": "execute_result"
    }
   ],
   "source": [
    "#df1 = df[ df['capacity'].notnull()]\n",
    "\n",
    "\n",
    "#df.id.value_counts(dropna=False)\n",
    "df['carsList'].unique()\n",
    "#print(len(df['carsList'].unique()))"
   ]
  },
  {
   "cell_type": "code",
   "execution_count": 150,
   "metadata": {},
   "outputs": [
    {
     "data": {
      "text/plain": [
       "(1000, 13)"
      ]
     },
     "execution_count": 150,
     "metadata": {},
     "output_type": "execute_result"
    }
   ],
   "source": [
    "df.id.unique().shape\n",
    "grouped = df.groupby(['id'])#.agg(['count'])\n",
    "\n",
    "ids_used_1 = grouped.filter(lambda x: x['id'].count() == 1).id\n",
    "list(ids_used_1)\n",
    "#df = df[df.id.isin(list(ids_used_1))]\n",
    "df.shape"
   ]
  },
  {
   "cell_type": "code",
   "execution_count": 151,
   "metadata": {},
   "outputs": [
    {
     "data": {
      "text/plain": [
       "<matplotlib.axes._subplots.AxesSubplot at 0x19d50888160>"
      ]
     },
     "execution_count": 151,
     "metadata": {},
     "output_type": "execute_result"
    },
    {
     "data": {
      "image/png": "[encoded data removed]",
      "text/plain": [
       "<Figure size 432x288 with 1 Axes>"
      ]
     },
     "metadata": {},
     "output_type": "display_data"
    }
   ],
   "source": [
    "import matplotlib.pyplot as plt\n",
    "#df.carsList.value_counts().plot(kind='bar')\n",
    "df.total_cars.value_counts(dropna=False).plot(kind='bar')"
   ]
  },
  {
   "cell_type": "code",
   "execution_count": 152,
   "metadata": {},
   "outputs": [
    {
     "name": "stdout",
     "output_type": "stream",
     "text": [
      "17\n"
     ]
    },
    {
     "data": {
      "text/plain": [
       "<matplotlib.collections.PathCollection at 0x19d5097ceb8>"
      ]
     },
     "execution_count": 152,
     "metadata": {},
     "output_type": "execute_result"
    },
    {
     "data": {
      "image/png": "[encoded data removed]",
      "text/plain": [
       "<Figure size 432x288 with 1 Axes>"
      ]
     },
     "metadata": {},
     "output_type": "display_data"
    }
   ],
   "source": [
    "\n",
    "from collections import Counter\n",
    "c = Counter(zip(df.latitude,df.longitude))\n",
    "print(len(c))\n",
    "s = [1*c[(xx,yy)] for xx,yy in zip(df.latitude, df.longitude)]\n",
    "plt.scatter(df.latitude, df.longitude)"
   ]
  },
  {
   "cell_type": "code",
   "execution_count": 153,
   "metadata": {},
   "outputs": [],
   "source": [
    "df['coord'] = df.latitude.map(str) + ', ' + df.longitude.map(str)"
   ]
  },
  {
   "cell_type": "code",
   "execution_count": 154,
   "metadata": {},
   "outputs": [
    {
     "data": {
      "text/plain": [
       "<matplotlib.axes._subplots.AxesSubplot at 0x19d5094a668>"
      ]
     },
     "execution_count": 154,
     "metadata": {},
     "output_type": "execute_result"
    },
    {
     "data": {
      "image/png": "[encoded data removed]",
      "text/plain": [
       "<Figure size 432x288 with 1 Axes>"
      ]
     },
     "metadata": {},
     "output_type": "display_data"
    }
   ],
   "source": [
    "df.coord.value_counts(dropna=False).plot(kind='bar')"
   ]
  },
  {
   "cell_type": "code",
   "execution_count": 155,
   "metadata": {},
   "outputs": [
    {
     "data": {
      "text/html": [
       "<div>\n",
       "<style scoped>\n",
       "    .dataframe tbody tr th:only-of-type {\n",
       "        vertical-align: middle;\n",
       "    }\n",
       "\n",
       "    .dataframe tbody tr th {\n",
       "        vertical-align: top;\n",
       "    }\n",
       "\n",
       "    .dataframe thead th {\n",
       "        text-align: right;\n",
       "    }\n",
       "</style>\n",
       "<table border=\"1\" class=\"dataframe\">\n",
       "  <thead>\n",
       "    <tr style=\"text-align: right;\">\n",
       "      <th></th>\n",
       "      <th>timestamp</th>\n",
       "      <th>total_cars</th>\n",
       "    </tr>\n",
       "  </thead>\n",
       "  <tbody>\n",
       "    <tr>\n",
       "      <th>75</th>\n",
       "      <td>2019-01-10 11:45:55.070781 UTC</td>\n",
       "      <td>5</td>\n",
       "    </tr>\n",
       "    <tr>\n",
       "      <th>113</th>\n",
       "      <td>2019-01-10 13:05:05.100979 UTC</td>\n",
       "      <td>3</td>\n",
       "    </tr>\n",
       "    <tr>\n",
       "      <th>102</th>\n",
       "      <td>2019-01-10 12:42:10.963106 UTC</td>\n",
       "      <td>4</td>\n",
       "    </tr>\n",
       "    <tr>\n",
       "      <th>31</th>\n",
       "      <td>2019-01-10 10:14:17.415631 UTC</td>\n",
       "      <td>4</td>\n",
       "    </tr>\n",
       "    <tr>\n",
       "      <th>87</th>\n",
       "      <td>2019-01-10 12:10:53.874508 UTC</td>\n",
       "      <td>5</td>\n",
       "    </tr>\n",
       "  </tbody>\n",
       "</table>\n",
       "</div>"
      ],
      "text/plain": [
       "                          timestamp  total_cars\n",
       "75   2019-01-10 11:45:55.070781 UTC           5\n",
       "113  2019-01-10 13:05:05.100979 UTC           3\n",
       "102  2019-01-10 12:42:10.963106 UTC           4\n",
       "31   2019-01-10 10:14:17.415631 UTC           4\n",
       "87   2019-01-10 12:10:53.874508 UTC           5"
      ]
     },
     "execution_count": 155,
     "metadata": {},
     "output_type": "execute_result"
    }
   ],
   "source": [
    "df_cars_by_time = df.groupby('timestamp').agg({'total_cars':'sum'}).reset_index()\n",
    "df_cars_by_time.sample(5)"
   ]
  },
  {
   "cell_type": "code",
   "execution_count": 158,
   "metadata": {},
   "outputs": [
    {
     "data": {
      "image/png": "[encoded data removed]",
      "text/plain": [
       "<Figure size 1440x432 with 1 Axes>"
      ]
     },
     "metadata": {},
     "output_type": "display_data"
    }
   ],
   "source": [
    "df_cars_by_time['timestamp'] = df_cars_by_time['timestamp'].apply(pd.Timestamp)\n",
    "df_cars_by_time.set_index('timestamp').sort_index().rolling('1min').mean().plot(figsize=(20,6), c='salmon', lw=1.6)\n",
    "plt.grid()\n",
    "plt.show()"
   ]
  },
  {
   "cell_type": "code",
   "execution_count": 160,
   "metadata": {},
   "outputs": [
    {
     "data": {
      "text/html": [
       "<div>\n",
       "<style scoped>\n",
       "    .dataframe tbody tr th:only-of-type {\n",
       "        vertical-align: middle;\n",
       "    }\n",
       "\n",
       "    .dataframe tbody tr th {\n",
       "        vertical-align: top;\n",
       "    }\n",
       "\n",
       "    .dataframe thead th {\n",
       "        text-align: right;\n",
       "    }\n",
       "</style>\n",
       "<table border=\"1\" class=\"dataframe\">\n",
       "  <thead>\n",
       "    <tr style=\"text-align: right;\">\n",
       "      <th></th>\n",
       "      <th>timestamp</th>\n",
       "      <th>total_cars</th>\n",
       "      <th>local_time</th>\n",
       "      <th>weekday</th>\n",
       "      <th>hour</th>\n",
       "    </tr>\n",
       "  </thead>\n",
       "  <tbody>\n",
       "    <tr>\n",
       "      <th>0</th>\n",
       "      <td>2019-01-10 09:09:43.245166+00:00</td>\n",
       "      <td>4</td>\n",
       "      <td>2019-01-10 11:09:43.245166+02:00</td>\n",
       "      <td>Thursday</td>\n",
       "      <td>11</td>\n",
       "    </tr>\n",
       "    <tr>\n",
       "      <th>1</th>\n",
       "      <td>2019-01-10 09:11:48.173801+00:00</td>\n",
       "      <td>4</td>\n",
       "      <td>2019-01-10 11:11:48.173801+02:00</td>\n",
       "      <td>Thursday</td>\n",
       "      <td>11</td>\n",
       "    </tr>\n",
       "    <tr>\n",
       "      <th>2</th>\n",
       "      <td>2019-01-10 09:13:53.222656+00:00</td>\n",
       "      <td>4</td>\n",
       "      <td>2019-01-10 11:13:53.222656+02:00</td>\n",
       "      <td>Thursday</td>\n",
       "      <td>11</td>\n",
       "    </tr>\n",
       "    <tr>\n",
       "      <th>3</th>\n",
       "      <td>2019-01-10 09:15:58.332911+00:00</td>\n",
       "      <td>4</td>\n",
       "      <td>2019-01-10 11:15:58.332911+02:00</td>\n",
       "      <td>Thursday</td>\n",
       "      <td>11</td>\n",
       "    </tr>\n",
       "    <tr>\n",
       "      <th>4</th>\n",
       "      <td>2019-01-10 09:18:03.222304+00:00</td>\n",
       "      <td>4</td>\n",
       "      <td>2019-01-10 11:18:03.222304+02:00</td>\n",
       "      <td>Thursday</td>\n",
       "      <td>11</td>\n",
       "    </tr>\n",
       "  </tbody>\n",
       "</table>\n",
       "</div>"
      ],
      "text/plain": [
       "                         timestamp  total_cars  \\\n",
       "0 2019-01-10 09:09:43.245166+00:00           4   \n",
       "1 2019-01-10 09:11:48.173801+00:00           4   \n",
       "2 2019-01-10 09:13:53.222656+00:00           4   \n",
       "3 2019-01-10 09:15:58.332911+00:00           4   \n",
       "4 2019-01-10 09:18:03.222304+00:00           4   \n",
       "\n",
       "                        local_time   weekday  hour  \n",
       "0 2019-01-10 11:09:43.245166+02:00  Thursday    11  \n",
       "1 2019-01-10 11:11:48.173801+02:00  Thursday    11  \n",
       "2 2019-01-10 11:13:53.222656+02:00  Thursday    11  \n",
       "3 2019-01-10 11:15:58.332911+02:00  Thursday    11  \n",
       "4 2019-01-10 11:18:03.222304+02:00  Thursday    11  "
      ]
     },
     "execution_count": 160,
     "metadata": {},
     "output_type": "execute_result"
    }
   ],
   "source": [
    "# Convert timezone\n",
    "timestamps = pd.DatetimeIndex(df_cars_by_time['timestamp'])\n",
    "timestamps = timestamps.tz_convert('Asia/Jerusalem')\n",
    "\n",
    "df_cars_by_time['local_time'] = timestamps\n",
    "\n",
    "#Extract time features\n",
    "df_cars_by_time['weekday'] = df_cars_by_time['local_time'].dt.weekday_name\n",
    "df_cars_by_time['hour'] = df_cars_by_time['local_time'].dt.hour\n",
    "df_cars_by_time.head() "
   ]
  },
  {
   "cell_type": "code",
   "execution_count": 161,
   "metadata": {},
   "outputs": [
    {
     "data": {
      "text/plain": [
       "Thursday    125\n",
       "Name: weekday, dtype: int64"
      ]
     },
     "execution_count": 161,
     "metadata": {},
     "output_type": "execute_result"
    }
   ],
   "source": [
    "df_cars_by_time['weekday'].value_counts()\n"
   ]
  },
  {
   "cell_type": "code",
   "execution_count": 163,
   "metadata": {},
   "outputs": [
    {
     "data": {
      "text/plain": [
       "<matplotlib.axes._subplots.AxesSubplot at 0x19d50f4b860>"
      ]
     },
     "execution_count": 163,
     "metadata": {},
     "output_type": "execute_result"
    },
    {
     "data": {
      "image/png": "[encoded data removed]",
      "text/plain": [
       "<Figure size 1440x432 with 1 Axes>"
      ]
     },
     "metadata": {},
     "output_type": "display_data"
    }
   ],
   "source": [
    "plt.figure(figsize=(20,6))\n",
    "plt.subplot(121)\n",
    "sns.boxplot(x='hour', y='total_cars', data=df_cars_by_time)"
   ]
  },
  {
   "cell_type": "code",
   "execution_count": null,
   "metadata": {},
   "outputs": [],
   "source": []
  }
 ],
 "metadata": {
  "kernelspec": {
   "display_name": "Python 3",
   "language": "python",
   "name": "python3"
  },
  "language_info": {
   "codemirror_mode": {
    "name": "ipython",
    "version": 3
   },
   "file_extension": ".py",
   "mimetype": "text/x-python",
   "name": "python",
   "nbconvert_exporter": "python",
   "pygments_lexer": "ipython3",
   "version": "3.6.5"
  }
 },
 "nbformat": 4,
 "nbformat_minor": 2
}
