{
 "cells": [
  {
   "cell_type": "markdown",
   "metadata": {},
   "source": [
    "## Data Preparing"
   ]
  },
  {
   "cell_type": "markdown",
   "metadata": {},
   "source": [
    "Firstly, we import some libraries that we will use to work with data."
   ]
  },
  {
   "cell_type": "code",
   "execution_count": 43,
   "metadata": {},
   "outputs": [],
   "source": [
    "import os\n",
    "import numpy as np\n",
    "import pandas as pd\n",
    "\n",
    "import matplotlib.pyplot as plt"
   ]
  },
  {
   "cell_type": "code",
   "execution_count": 30,
   "metadata": {},
   "outputs": [],
   "source": [
    "import nltk\n",
    "from nltk.stem.snowball import SnowballStemmer\n",
    "import string"
   ]
  },
  {
   "cell_type": "markdown",
   "metadata": {},
   "source": [
    "## Transform Data to DataFrames\n",
    "On first stage of our work we organize text files to more convinient form like data frames (using Pandas library) and save them to csv files. \n",
    "\n",
    "In addition, we transform text data  from reviews using stemming (from NLTK library) methods."
   ]
  },
  {
   "cell_type": "code",
   "execution_count": 31,
   "metadata": {},
   "outputs": [],
   "source": [
    "def stemText(row):\n",
    "    source = row[\"text\"]\n",
    "    \n",
    "    text_string = \"\".join(l for l in source if l not in string.punctuation)\n",
    "    \n",
    "    stemmer = SnowballStemmer(\"english\")       \n",
    "    words = text_string.split(\" \")\n",
    "        \n",
    "    new_words = []\n",
    "        \n",
    "    for i in range(len(words)):\n",
    "        if words[i] != \"\" and words[i] != \" \":\n",
    "            new_words.append(stemmer.stem(words[i].strip()))\n",
    "\n",
    "    text_string = \" \".join(l for l in new_words)\n",
    "    \n",
    "    return text_string"
   ]
  },
  {
   "cell_type": "code",
   "execution_count": 66,
   "metadata": {},
   "outputs": [],
   "source": [
    "base_data_path = 'C://Work/DataScience/Data/aclImdb/'\n",
    "\n",
    "pos_data_folder_path_template = base_data_path + '{0}/pos/'\n",
    "neg_data_folder_path_template = base_data_path + '{0}/neg/'\n",
    "\n",
    "for data_purpose_label in ['train', 'test']:\n",
    "    data = []\n",
    "    folderPath_array = [neg_data_folder_path_template, pos_data_folder_path_template]\n",
    "    \n",
    "    for folder_path_index in range(2):\n",
    "        counter = 0\n",
    "        for fileName in os.listdir(folderPath_array[folder_path_index].format(data_purpose_label)):        \n",
    "            with open(folderPath_array[folder_path_index].format(data_purpose_label) + fileName, 'r', \n",
    "                        encoding='utf-8') as review_file:\n",
    "                txt = review_file.read()            \n",
    "                data.append([txt, folder_path_index])            \n",
    "    \n",
    "    df = pd.DataFrame(data, columns=['text', 'neg_pos'])\n",
    "    df['textStem'] = df.apply(stemText, axis=1, raw=False)\n",
    "    import csv\n",
    "    df[[\"neg_pos\",\"textStem\"]].to_csv(\"dataframe_stem_{0}.csv\".format(data_purpose_label), index=False, \n",
    "                                      quoting=csv.QUOTE_NONNUMERIC)    "
   ]
  },
  {
   "cell_type": "markdown",
   "metadata": {},
   "source": [
    "## Model"
   ]
  },
  {
   "cell_type": "markdown",
   "metadata": {},
   "source": [
    "Load prepared data from CSV files."
   ]
  },
  {
   "cell_type": "code",
   "execution_count": 67,
   "metadata": {},
   "outputs": [],
   "source": [
    "df_train = pd.read_csv('dataframe_stem_train.csv')\n",
    "df_test = pd.read_csv('dataframe_stem_test.csv')\n",
    "\n",
    "df_train = df_train.sample(frac=1)\n",
    "df_test = df_test.sample(frac=1)\n",
    "\n",
    "features_train = df_train['textStem']\n",
    "features_test = df_test['textStem']\n",
    "\n",
    "labels_train = df_train['neg_pos']\n",
    "labels_test = df_test['neg_pos']\n"
   ]
  },
  {
   "cell_type": "markdown",
   "metadata": {},
   "source": [
    "### Vectorize Text Data"
   ]
  },
  {
   "cell_type": "markdown",
   "metadata": {},
   "source": [
    "Let's use text vectorization procedure. This presentation of source data allow us to apply some machine learning models."
   ]
  },
  {
   "cell_type": "code",
   "execution_count": 68,
   "metadata": {},
   "outputs": [
    {
     "name": "stdout",
     "output_type": "stream",
     "text": [
      "(25000, 91805)\n"
     ]
    }
   ],
   "source": [
    "from sklearn.feature_extraction.text import TfidfVectorizer\n",
    "vectorizer = TfidfVectorizer(sublinear_tf=True, max_df=0.999, stop_words='english')                \n",
    "features_train_transformed = vectorizer.fit_transform(features_train)\n",
    "features_test_transformed  = vectorizer.transform(features_test)\n",
    "print(features_train_transformed.shape)"
   ]
  },
  {
   "cell_type": "markdown",
   "metadata": {},
   "source": [
    "### Select Percentile"
   ]
  },
  {
   "cell_type": "markdown",
   "metadata": {},
   "source": [
    "As a result of a previous step, we get data table with 90K+ columns. It's a quite big data piece and we can face computer resources related troubles during processing such amount of data. So, we will use SelectPercentile method to reduce data dimensions. Using this approach, we can easly manipulate data size to test our models."
   ]
  },
  {
   "cell_type": "code",
   "execution_count": 69,
   "metadata": {},
   "outputs": [
    {
     "name": "stdout",
     "output_type": "stream",
     "text": [
      "(25000, 18361)\n"
     ]
    }
   ],
   "source": [
    "percentile_value = 20\n",
    "from sklearn.feature_selection import SelectPercentile, f_classif\n",
    "selector = SelectPercentile(f_classif, percentile=percentile_value)\n",
    "selector.fit(features_train_transformed, labels_train)\n",
    "features_train_transformed_q = selector.transform(features_train_transformed).toarray()\n",
    "features_test_transformed_q  = selector.transform(features_test_transformed).toarray()\n",
    "\n",
    "print(features_train_transformed_q.shape)"
   ]
  },
  {
   "cell_type": "markdown",
   "metadata": {},
   "source": [
    "### Gaussian (Naive Bayes)"
   ]
  },
  {
   "cell_type": "markdown",
   "metadata": {},
   "source": [
    "We start with Gaussian Naive Bayes Classifier. We are going to check if it's a good idea to classify movie reviews using conditional probability approach (Bayesian theorem)."
   ]
  },
  {
   "cell_type": "code",
   "execution_count": 40,
   "metadata": {},
   "outputs": [
    {
     "data": {
      "text/plain": [
       "GaussianNB(priors=None, var_smoothing=1e-09)"
      ]
     },
     "execution_count": 40,
     "metadata": {},
     "output_type": "execute_result"
    }
   ],
   "source": [
    "from sklearn.naive_bayes import GaussianNB\n",
    "clf = GaussianNB()\n",
    "clf.fit(features_train_transformed_q, labels_train)\n"
   ]
  },
  {
   "cell_type": "code",
   "execution_count": 41,
   "metadata": {},
   "outputs": [
    {
     "name": "stdout",
     "output_type": "stream",
     "text": [
      "Gaussian =  0.5782\n"
     ]
    }
   ],
   "source": [
    "pred = clf.predict(features_test_transformed_q)\n",
    "\n",
    "sc = clf.score(features_test_transformed_q, labels_test)               \n",
    "print(\"Gaussian = \", sc)"
   ]
  },
  {
   "cell_type": "markdown",
   "metadata": {},
   "source": [
    "Gaussian Naive Bayes Classifier gives us an accuracy about 60% which as just a little bit better that base random approach (random labeling, 50/50)."
   ]
  },
  {
   "cell_type": "code",
   "execution_count": 71,
   "metadata": {},
   "outputs": [
    {
     "data": {
      "image/png": "[encoded data removed]",
      "text/plain": [
       "<Figure size 432x288 with 1 Axes>"
      ]
     },
     "metadata": {
      "needs_background": "light"
     },
     "output_type": "display_data"
    }
   ],
   "source": [
    "import collections\n",
    "\n",
    "labels, values = zip(*sorted(collections.Counter(pred).items()))\n",
    "\n",
    "indexes = np.arange(len(labels))\n",
    "width = 0.7\n",
    "\n",
    "plt.bar(indexes, values, width)\n",
    "plt.xticks( labels)\n",
    "plt.show()\n"
   ]
  },
  {
   "cell_type": "markdown",
   "metadata": {},
   "source": [
    "Also we can see that Gaussian Classifier tends to classify more negative reviews."
   ]
  },
  {
   "cell_type": "markdown",
   "metadata": {},
   "source": [
    "### Linear Classifier (Logistic Regression)"
   ]
  },
  {
   "cell_type": "markdown",
   "metadata": {},
   "source": [
    "Next model that we are going to use is Linear Classifier (Logistic Regression). This model is even worse than Gaussian (accuracy near 50%)."
   ]
  },
  {
   "cell_type": "code",
   "execution_count": 73,
   "metadata": {},
   "outputs": [
    {
     "name": "stdout",
     "output_type": "stream",
     "text": [
      "0.49608\n"
     ]
    }
   ],
   "source": [
    "from sklearn.linear_model import LogisticRegression\n",
    "log_model = LogisticRegression()\n",
    "\n",
    "log_model = log_model.fit(X=features_train_transformed, y=labels_train)\n",
    "y_pred = log_model.predict(features_test_transformed)\n",
    "\n",
    "from sklearn.metrics import accuracy_score\n",
    "print(accuracy_score(labels_train, y_pred))"
   ]
  },
  {
   "cell_type": "markdown",
   "metadata": {},
   "source": [
    "# Keras"
   ]
  },
  {
   "cell_type": "markdown",
   "metadata": {},
   "source": [
    "Next step is using deep learning with Keras and Tensorflow libraries."
   ]
  },
  {
   "cell_type": "markdown",
   "metadata": {},
   "source": [
    "### Vectorize labels"
   ]
  },
  {
   "cell_type": "code",
   "execution_count": 74,
   "metadata": {},
   "outputs": [],
   "source": [
    "y_train = np.array(labels_train).astype('float32')\n",
    "y_test = np.array(labels_test).astype('float32')"
   ]
  },
  {
   "cell_type": "markdown",
   "metadata": {},
   "source": [
    "### Prepare validation data"
   ]
  },
  {
   "cell_type": "code",
   "execution_count": 75,
   "metadata": {},
   "outputs": [],
   "source": [
    "validation_data_count = 5000\n",
    "train_data_count = features_train_transformed_q.shape[0] - validation_data_count\n",
    "\n",
    "x_val = features_train_transformed_q[:validation_data_count]\n",
    "x_train_partial =  features_train_transformed_q[validation_data_count:]\n",
    "\n",
    "y_val = y_train[:validation_data_count]\n",
    "y_train_partial = y_train[validation_data_count:]\n",
    "\n"
   ]
  },
  {
   "cell_type": "code",
   "execution_count": 76,
   "metadata": {},
   "outputs": [],
   "source": [
    "from keras import models\n",
    "from keras import layers\n",
    "\n",
    "model = models.Sequential()\n",
    "model.add(layers.Dense(16, activation='relu', input_shape=(x_train_partial.shape[1],)))\n",
    "model.add(layers.Dense(16, activation='relu'))\n",
    "model.add(layers.Dense(1, activation='sigmoid'))\n",
    "\n",
    "from keras import optimizers\n",
    "\n",
    "model.compile(optimizer=optimizers.RMSprop(lr=0.001),\n",
    "              loss='binary_crossentropy',\n",
    "              metrics=['acc']\n",
    "             )"
   ]
  },
  {
   "cell_type": "code",
   "execution_count": 77,
   "metadata": {},
   "outputs": [
    {
     "name": "stdout",
     "output_type": "stream",
     "text": [
      "Train on 20000 samples, validate on 5000 samples\n",
      "Epoch 1/10\n",
      "20000/20000 [==============================] - 8s 411us/step - loss: 0.6497 - acc: 0.8010 - val_loss: 0.5997 - val_acc: 0.8738\n",
      "Epoch 2/10\n",
      "20000/20000 [==============================] - 5s 227us/step - loss: 0.5393 - acc: 0.8833 - val_loss: 0.4863 - val_acc: 0.8818\n",
      "Epoch 3/10\n",
      "20000/20000 [==============================] - 4s 205us/step - loss: 0.4181 - acc: 0.9021 - val_loss: 0.3826 - val_acc: 0.8858\n",
      "Epoch 4/10\n",
      "20000/20000 [==============================] - 4s 207us/step - loss: 0.3179 - acc: 0.9143 - val_loss: 0.3066 - val_acc: 0.8956\n",
      "Epoch 5/10\n",
      "20000/20000 [==============================] - 4s 206us/step - loss: 0.2457 - acc: 0.9261 - val_loss: 0.2611 - val_acc: 0.9066\n",
      "Epoch 6/10\n",
      "20000/20000 [==============================] - 4s 207us/step - loss: 0.1982 - acc: 0.9358 - val_loss: 0.2324 - val_acc: 0.9086\n",
      "Epoch 7/10\n",
      "20000/20000 [==============================] - 4s 206us/step - loss: 0.1657 - acc: 0.9442 - val_loss: 0.2184 - val_acc: 0.9130\n",
      "Epoch 8/10\n",
      "20000/20000 [==============================] - 4s 210us/step - loss: 0.1426 - acc: 0.9516 - val_loss: 0.2124 - val_acc: 0.9138\n",
      "Epoch 9/10\n",
      "20000/20000 [==============================] - 4s 214us/step - loss: 0.1246 - acc: 0.9582 - val_loss: 0.2112 - val_acc: 0.9134\n",
      "Epoch 10/10\n",
      "20000/20000 [==============================] - 4s 215us/step - loss: 0.1107 - acc: 0.9632 - val_loss: 0.2165 - val_acc: 0.9100.1097 - \n"
     ]
    }
   ],
   "source": [
    "history = model.fit(x_train_partial, y_train_partial, epochs=10, batch_size=512, validation_data=(x_val, y_val))"
   ]
  },
  {
   "cell_type": "code",
   "execution_count": 78,
   "metadata": {},
   "outputs": [
    {
     "name": "stdout",
     "output_type": "stream",
     "text": [
      "25000/25000 [==============================] - 13s 508us/step\n",
      "[0.3201426215195656, 0.86836]\n"
     ]
    }
   ],
   "source": [
    "results = model.evaluate( features_test_transformed_q, y_test)\n",
    "print(results)"
   ]
  },
  {
   "cell_type": "markdown",
   "metadata": {},
   "source": [
    "After checking our model on test data, we can see that deep learning approcah shows us an accuracy about 86%. This result is much better than previous models."
   ]
  },
  {
   "cell_type": "code",
   "execution_count": 80,
   "metadata": {},
   "outputs": [
    {
     "data": {
      "image/png": "[encoded data removed]",
      "text/plain": [
       "<Figure size 432x288 with 1 Axes>"
      ]
     },
     "metadata": {
      "needs_background": "light"
     },
     "output_type": "display_data"
    }
   ],
   "source": [
    "plt.clf()\n",
    "\n",
    "acc_values = history.history['acc']\n",
    "val_acc_values = history.history['val_acc']\n",
    "epochs = range(1, len(acc_values) + 1)\n",
    "plt.plot(epochs, acc_values, 'bo', label='Train accuracy')\n",
    "plt.plot(epochs, val_acc_values, 'b', label='Validation accuracy')\n",
    "plt.xlabel('Epochs')\n",
    "plt.ylabel('Accuracy')\n",
    "plt.legend()\n",
    "\n",
    "plt.show()"
   ]
  },
  {
   "cell_type": "markdown",
   "metadata": {},
   "source": [
    "But we can see that our model start showing overfitting signs after 5-7 epochs."
   ]
  },
  {
   "cell_type": "markdown",
   "metadata": {},
   "source": [
    "## L2 Regularization"
   ]
  },
  {
   "cell_type": "markdown",
   "metadata": {},
   "source": [
    "We will use L2 regularization to try to avoid overfitting in our model."
   ]
  },
  {
   "cell_type": "code",
   "execution_count": 81,
   "metadata": {},
   "outputs": [],
   "source": [
    "from keras import regularizers\n",
    "\n",
    "model = models.Sequential()\n",
    "model.add(layers.Dense(32, kernel_regularizer=regularizers.l2(0.001), activation='relu', input_shape=(x_train_partial.shape[1],)))\n",
    "model.add(layers.Dense(16, kernel_regularizer=regularizers.l2(0.001), activation='relu'))\n",
    "model.add(layers.Dense(8, kernel_regularizer=regularizers.l2(0.001), activation='relu'))\n",
    "model.add(layers.Dense(1, activation='sigmoid'))\n",
    "\n",
    "model.compile(optimizer=optimizers.RMSprop(lr=0.001),\n",
    "              loss='binary_crossentropy',\n",
    "              metrics=['acc']\n",
    "             )"
   ]
  },
  {
   "cell_type": "code",
   "execution_count": 82,
   "metadata": {},
   "outputs": [
    {
     "name": "stdout",
     "output_type": "stream",
     "text": [
      "Train on 20000 samples, validate on 5000 samples\n",
      "Epoch 1/10\n",
      "20000/20000 [==============================] - 12s 621us/step - loss: 0.7017 - acc: 0.6948 - val_loss: 0.6651 - val_acc: 0.6904\n",
      "Epoch 2/10\n",
      "20000/20000 [==============================] - 5s 247us/step - loss: 0.6343 - acc: 0.7860 - val_loss: 0.6033 - val_acc: 0.8358\n",
      "Epoch 3/10\n",
      "20000/20000 [==============================] - 5s 239us/step - loss: 0.5677 - acc: 0.8524 - val_loss: 0.5427 - val_acc: 0.8764\n",
      "Epoch 4/10\n",
      "20000/20000 [==============================] - 5s 226us/step - loss: 0.5013 - acc: 0.8859 - val_loss: 0.4821 - val_acc: 0.8848\n",
      "Epoch 5/10\n",
      "20000/20000 [==============================] - 5s 235us/step - loss: 0.4378 - acc: 0.9024 - val_loss: 0.4281 - val_acc: 0.8844\n",
      "Epoch 6/10\n",
      "20000/20000 [==============================] - 5s 234us/step - loss: 0.3864 - acc: 0.9104 - val_loss: 0.3929 - val_acc: 0.8878\n",
      "Epoch 7/10\n",
      "20000/20000 [==============================] - 5s 234us/step - loss: 0.3504 - acc: 0.9148 - val_loss: 0.3700 - val_acc: 0.8916\n",
      "Epoch 8/10\n",
      "20000/20000 [==============================] - 5s 233us/step - loss: 0.3255 - acc: 0.9202 - val_loss: 0.3598 - val_acc: 0.8900\n",
      "Epoch 9/10\n",
      "20000/20000 [==============================] - 5s 234us/step - loss: 0.3079 - acc: 0.9265 - val_loss: 0.3518 - val_acc: 0.8938\n",
      "Epoch 10/10\n",
      "20000/20000 [==============================] - 5s 234us/step - loss: 0.2949 - acc: 0.9308 - val_loss: 0.3498 - val_acc: 0.8944\n"
     ]
    }
   ],
   "source": [
    "history = model.fit(x_train_partial, y_train_partial, epochs=10, batch_size=512, validation_data=(x_val, y_val))"
   ]
  },
  {
   "cell_type": "code",
   "execution_count": 83,
   "metadata": {
    "scrolled": true
   },
   "outputs": [
    {
     "name": "stdout",
     "output_type": "stream",
     "text": [
      "25000/25000 [==============================] - 13s 534us/step\n",
      "[0.38558057859420775, 0.8752]\n"
     ]
    }
   ],
   "source": [
    "results = model.evaluate( features_test_transformed_q, y_test)\n",
    "print(results)"
   ]
  },
  {
   "cell_type": "markdown",
   "metadata": {},
   "source": [
    "Accuracy 87%"
   ]
  },
  {
   "cell_type": "code",
   "execution_count": 84,
   "metadata": {},
   "outputs": [
    {
     "data": {
      "image/png": "[encoded data removed]",
      "text/plain": [
       "<Figure size 432x288 with 1 Axes>"
      ]
     },
     "metadata": {
      "needs_background": "light"
     },
     "output_type": "display_data"
    }
   ],
   "source": [
    "import matplotlib.pyplot as plt\n",
    "\n",
    "plt.clf()\n",
    "\n",
    "acc_values = history.history['acc']\n",
    "val_acc_values = history.history['val_acc']\n",
    "epochs = range(1, len(acc_values) + 1)\n",
    "plt.plot(epochs, acc_values, 'bo', label='Train accuracy')\n",
    "plt.plot(epochs, val_acc_values, 'b', label='Validation accuracy')\n",
    "plt.xlabel('Epochs')\n",
    "plt.ylabel('Accuracy')\n",
    "plt.legend()\n",
    "\n",
    "plt.show()"
   ]
  },
  {
   "cell_type": "markdown",
   "metadata": {},
   "source": [
    "The chart shows us that L2 regularization was a quite effective to fight overfitting."
   ]
  }
 ],
 "metadata": {
  "kernelspec": {
   "display_name": "Python 3",
   "language": "python",
   "name": "python3"
  },
  "language_info": {
   "codemirror_mode": {
    "name": "ipython",
    "version": 3
   },
   "file_extension": ".py",
   "mimetype": "text/x-python",
   "name": "python",
   "nbconvert_exporter": "python",
   "pygments_lexer": "ipython3",
   "version": "3.6.8"
  }
 },
 "nbformat": 4,
 "nbformat_minor": 2
}
