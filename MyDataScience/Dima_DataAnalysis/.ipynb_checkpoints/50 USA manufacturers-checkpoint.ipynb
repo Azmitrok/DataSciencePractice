{
 "cells": [
  {
   "cell_type": "code",
   "execution_count": 1,
   "metadata": {},
   "outputs": [
    {
     "data": {
      "text/plain": [
       "Index(['2018 Rank', 'Company Name', 'Primary Industry',\n",
       "       '2017 Revenue (US$ Millions)', 'Net Income (US$ Millions)',\n",
       "       'Market Capitalization ($)', 'Revenue Growth (%)', 'Profit Margin (%)'],\n",
       "      dtype='object')"
      ]
     },
     "execution_count": 1,
     "metadata": {},
     "output_type": "execute_result"
    }
   ],
   "source": [
    "import numpy as np\n",
    "import pandas as pd\n",
    "import matplotlib.pyplot as plt\n"
   ]
  },
  {
   "cell_type": "code",
   "execution_count": 21,
   "metadata": {},
   "outputs": [
    {
     "name": "stdout",
     "output_type": "stream",
     "text": [
      "(50, 8)\n",
      "Index(['2018 Rank', 'Company Name', 'industry', 'revenue',\n",
      "       'Net Income (US$ Millions)', 'Market Capitalization ($)',\n",
      "       'Revenue Growth (%)', 'Profit Margin (%)'],\n",
      "      dtype='object')\n"
     ]
    },
    {
     "data": {
      "text/html": [
       "<div>\n",
       "<style scoped>\n",
       "    .dataframe tbody tr th:only-of-type {\n",
       "        vertical-align: middle;\n",
       "    }\n",
       "\n",
       "    .dataframe tbody tr th {\n",
       "        vertical-align: top;\n",
       "    }\n",
       "\n",
       "    .dataframe thead th {\n",
       "        text-align: right;\n",
       "    }\n",
       "</style>\n",
       "<table border=\"1\" class=\"dataframe\">\n",
       "  <thead>\n",
       "    <tr style=\"text-align: right;\">\n",
       "      <th></th>\n",
       "      <th>2018 Rank</th>\n",
       "      <th>Company Name</th>\n",
       "      <th>industry</th>\n",
       "      <th>revenue</th>\n",
       "      <th>Net Income (US$ Millions)</th>\n",
       "      <th>Market Capitalization ($)</th>\n",
       "      <th>Revenue Growth (%)</th>\n",
       "      <th>Profit Margin (%)</th>\n",
       "    </tr>\n",
       "  </thead>\n",
       "  <tbody>\n",
       "    <tr>\n",
       "      <th>0</th>\n",
       "      <td>47</td>\n",
       "      <td>Louisiana-Pacific Corp.</td>\n",
       "      <td>Wood Products</td>\n",
       "      <td>2.734</td>\n",
       "      <td>390</td>\n",
       "      <td>3,804.96</td>\n",
       "      <td>22.41</td>\n",
       "      <td>14.26</td>\n",
       "    </tr>\n",
       "    <tr>\n",
       "      <th>1</th>\n",
       "      <td>1</td>\n",
       "      <td>Patrick Industries Inc.</td>\n",
       "      <td>Wood Products</td>\n",
       "      <td>1.636</td>\n",
       "      <td>86</td>\n",
       "      <td>1,759.16</td>\n",
       "      <td>33.86</td>\n",
       "      <td>5.24</td>\n",
       "    </tr>\n",
       "    <tr>\n",
       "      <th>2</th>\n",
       "      <td>48</td>\n",
       "      <td>Altria Group Inc.</td>\n",
       "      <td>Tobacco</td>\n",
       "      <td>25.576</td>\n",
       "      <td>10,222</td>\n",
       "      <td>135,768.92</td>\n",
       "      <td>-0.65</td>\n",
       "      <td>39.97</td>\n",
       "    </tr>\n",
       "    <tr>\n",
       "      <th>3</th>\n",
       "      <td>17</td>\n",
       "      <td>Apogee Enterprises Inc.</td>\n",
       "      <td>Stone, Clay, Glass &amp; Concrete Products</td>\n",
       "      <td>1.326</td>\n",
       "      <td>79</td>\n",
       "      <td>1,238.11</td>\n",
       "      <td>18.99</td>\n",
       "      <td>5.99</td>\n",
       "    </tr>\n",
       "    <tr>\n",
       "      <th>4</th>\n",
       "      <td>28</td>\n",
       "      <td>Huntington Ingalls Industries Inc.</td>\n",
       "      <td>Railcars, Ships, &amp; Other Trans. Equip.</td>\n",
       "      <td>7.441</td>\n",
       "      <td>479</td>\n",
       "      <td>10,630.07</td>\n",
       "      <td>5.28</td>\n",
       "      <td>6.44</td>\n",
       "    </tr>\n",
       "  </tbody>\n",
       "</table>\n",
       "</div>"
      ],
      "text/plain": [
       "   2018 Rank                        Company Name  \\\n",
       "0         47             Louisiana-Pacific Corp.   \n",
       "1          1             Patrick Industries Inc.   \n",
       "2         48                   Altria Group Inc.   \n",
       "3         17             Apogee Enterprises Inc.   \n",
       "4         28  Huntington Ingalls Industries Inc.   \n",
       "\n",
       "                                 industry  revenue Net Income (US$ Millions)  \\\n",
       "0                           Wood Products    2.734                       390   \n",
       "1                           Wood Products    1.636                        86   \n",
       "2                                 Tobacco   25.576                    10,222   \n",
       "3  Stone, Clay, Glass & Concrete Products    1.326                        79   \n",
       "4  Railcars, Ships, & Other Trans. Equip.    7.441                       479   \n",
       "\n",
       "  Market Capitalization ($)  Revenue Growth (%)  Profit Margin (%)  \n",
       "0                  3,804.96               22.41              14.26  \n",
       "1                  1,759.16               33.86               5.24  \n",
       "2                135,768.92               -0.65              39.97  \n",
       "3                  1,238.11               18.99               5.99  \n",
       "4                 10,630.07                5.28               6.44  "
      ]
     },
     "execution_count": 21,
     "metadata": {},
     "output_type": "execute_result"
    }
   ],
   "source": [
    "data = pd.read_csv('USA_50manufacturers.csv')\n",
    "print(data.shape)\n",
    "data = data.rename(columns={'2017 Revenue (US$ Millions)': 'revenue', 'Primary Industry': 'industry'})\n",
    "print(data.columns)\n",
    "data.revenue = pd.to_numeric(data.revenue.str.replace(',', '.'))\n",
    "data.head()"
   ]
  },
  {
   "cell_type": "code",
   "execution_count": 22,
   "metadata": {},
   "outputs": [
    {
     "data": {
      "text/plain": [
       "543.0329999999999"
      ]
     },
     "execution_count": 22,
     "metadata": {},
     "output_type": "execute_result"
    }
   ],
   "source": [
    "data.revenue.sum()"
   ]
  },
  {
   "cell_type": "code",
   "execution_count": 19,
   "metadata": {},
   "outputs": [
    {
     "data": {
      "text/plain": [
       "['Wood Products',\n",
       " 'Tobacco',\n",
       " 'Stone, Clay, Glass & Concrete Products',\n",
       " 'Railcars, Ships, & Other Trans. Equip.',\n",
       " 'Publishing & Printing',\n",
       " 'Plastics',\n",
       " 'Petroleum & Coal Products',\n",
       " 'Paper',\n",
       " 'Motor Vehicles',\n",
       " 'Motor Vehicle Parts',\n",
       " 'Medical Instruments & Equipment',\n",
       " 'Machinery',\n",
       " 'Instruments',\n",
       " 'Furniture & Fixtures',\n",
       " 'Food',\n",
       " 'Fabricated Metal Products',\n",
       " 'Electrical Equipment & Appliances',\n",
       " 'Computers & Other Electronic Products',\n",
       " 'Chemicals',\n",
       " 'Beverages',\n",
       " 'Apparel',\n",
       " 'Aerospace & Defense']"
      ]
     },
     "execution_count": 19,
     "metadata": {},
     "output_type": "execute_result"
    }
   ],
   "source": [
    "data.industry.unique().tolist()"
   ]
  },
  {
   "cell_type": "code",
   "execution_count": 36,
   "metadata": {},
   "outputs": [
    {
     "data": {
      "text/plain": [
       "industry\n",
       "Computers & Other Electronic Products     244.138\n",
       "Apparel                                    43.073\n",
       "Motor Vehicle Parts                        39.950\n",
       "Chemicals                                  34.972\n",
       "Food                                       31.995\n",
       "Aerospace & Defense                        25.803\n",
       "Tobacco                                    25.576\n",
       "Electrical Equipment & Appliances          18.288\n",
       "Beverages                                  14.383\n",
       "Fabricated Metal Products                  14.314\n",
       "Motor Vehicles                             10.561\n",
       "Railcars, Ships, & Other Trans. Equip.      7.441\n",
       "Paper                                       6.445\n",
       "Plastics                                    5.923\n",
       "Wood Products                               4.370\n",
       "Furniture & Fixtures                        3.722\n",
       "Instruments                                 2.725\n",
       "Machinery                                   2.505\n",
       "Petroleum & Coal Products                   2.084\n",
       "Publishing & Printing                       1.966\n",
       "Medical Instruments & Equipment             1.473\n",
       "Stone, Clay, Glass & Concrete Products      1.326\n",
       "Name: revenue, dtype: float64"
      ]
     },
     "execution_count": 36,
     "metadata": {},
     "output_type": "execute_result"
    }
   ],
   "source": [
    "data_gr = data.groupby('industry').sum()\n",
    "data_gr['revenue'].sort_values(ascending=False)"
   ]
  },
  {
   "cell_type": "code",
   "execution_count": null,
   "metadata": {},
   "outputs": [],
   "source": []
  }
 ],
 "metadata": {
  "kernelspec": {
   "display_name": "Python 3",
   "language": "python",
   "name": "python3"
  },
  "language_info": {
   "codemirror_mode": {
    "name": "ipython",
    "version": 3
   },
   "file_extension": ".py",
   "mimetype": "text/x-python",
   "name": "python",
   "nbconvert_exporter": "python",
   "pygments_lexer": "ipython3",
   "version": "3.6.5"
  }
 },
 "nbformat": 4,
 "nbformat_minor": 2
}
