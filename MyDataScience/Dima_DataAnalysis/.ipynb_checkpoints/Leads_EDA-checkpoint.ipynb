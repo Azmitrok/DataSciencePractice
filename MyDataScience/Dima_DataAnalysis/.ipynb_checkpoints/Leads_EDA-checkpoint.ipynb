{
 "cells": [
  {
   "cell_type": "code",
   "execution_count": 52,
   "metadata": {},
   "outputs": [],
   "source": [
    "import pandas as pd\n",
    "import numpy as np\n",
    "\n",
    "import matplotlib.pyplot as plt\n",
    "\n",
    "import seaborn as sns\n",
    "sns.set()"
   ]
  },
  {
   "cell_type": "code",
   "execution_count": 29,
   "metadata": {
    "scrolled": true
   },
   "outputs": [
    {
     "data": {
      "text/html": [
       "<div>\n",
       "<style scoped>\n",
       "    .dataframe tbody tr th:only-of-type {\n",
       "        vertical-align: middle;\n",
       "    }\n",
       "\n",
       "    .dataframe tbody tr th {\n",
       "        vertical-align: top;\n",
       "    }\n",
       "\n",
       "    .dataframe thead th {\n",
       "        text-align: right;\n",
       "    }\n",
       "</style>\n",
       "<table border=\"1\" class=\"dataframe\">\n",
       "  <thead>\n",
       "    <tr style=\"text-align: right;\">\n",
       "      <th></th>\n",
       "      <th>Contact</th>\n",
       "      <th>Contractor</th>\n",
       "      <th>Country</th>\n",
       "      <th>CreatedById</th>\n",
       "      <th>CreatedOn</th>\n",
       "      <th>Currency</th>\n",
       "      <th>DateInvite</th>\n",
       "      <th>LeadName</th>\n",
       "      <th>LeadSource</th>\n",
       "      <th>LeadType</th>\n",
       "      <th>...</th>\n",
       "      <th>UsrSTRING</th>\n",
       "      <th>UsrTehSpecialistId</th>\n",
       "      <th>UsrToProdazhaAutorId</th>\n",
       "      <th>UsrTorgDATE</th>\n",
       "      <th>UsrTypeId</th>\n",
       "      <th>UsrURLIcetrade</th>\n",
       "      <th>UsrZadanieDeadLine</th>\n",
       "      <th>UsrZadanieZakupki</th>\n",
       "      <th>UsrZakupNum</th>\n",
       "      <th>Website</th>\n",
       "    </tr>\n",
       "  </thead>\n",
       "  <tbody>\n",
       "    <tr>\n",
       "      <th>0</th>\n",
       "      <td></td>\n",
       "      <td></td>\n",
       "      <td>None</td>\n",
       "      <td>ce47f1b8-31d2-4114-bded-50c149b2a8d7</td>\n",
       "      <td>/Date(1535087347272)/</td>\n",
       "      <td>USD</td>\n",
       "      <td>/Date(1536699600000)/</td>\n",
       "      <td>Продажа брендов / Городское клиническое патоло...</td>\n",
       "      <td>из переговоров</td>\n",
       "      <td>Продажа брендов</td>\n",
       "      <td>...</td>\n",
       "      <td>Лезвия одноразовые Горпатбюро 4 квартал</td>\n",
       "      <td>ce47f1b8-31d2-4114-bded-50c149b2a8d7</td>\n",
       "      <td>None</td>\n",
       "      <td>/Date(1539085391000)/</td>\n",
       "      <td>ee429f36-84db-4fe2-8073-bd34c0036a0c</td>\n",
       "      <td>http://www.icetrade.by/tenders/all/view/611418</td>\n",
       "      <td>None</td>\n",
       "      <td></td>\n",
       "      <td>2018-611418</td>\n",
       "      <td></td>\n",
       "    </tr>\n",
       "    <tr>\n",
       "      <th>1</th>\n",
       "      <td>Елдос</td>\n",
       "      <td></td>\n",
       "      <td>KAZ</td>\n",
       "      <td>7848733e-d22a-425f-bf86-cb5bbef356ba</td>\n",
       "      <td>/Date(1497594689556)/</td>\n",
       "      <td>USD</td>\n",
       "      <td>None</td>\n",
       "      <td>Продажа Интернет / Елдос</td>\n",
       "      <td>из заявки</td>\n",
       "      <td>Продажа Интернет</td>\n",
       "      <td>...</td>\n",
       "      <td>ADSL/VDSL Тестовый телефон Vesala AP32</td>\n",
       "      <td>None</td>\n",
       "      <td>d13c5c83-c9ea-4971-961a-c36b32344359</td>\n",
       "      <td>None</td>\n",
       "      <td>None</td>\n",
       "      <td></td>\n",
       "      <td>None</td>\n",
       "      <td></td>\n",
       "      <td></td>\n",
       "      <td></td>\n",
       "    </tr>\n",
       "    <tr>\n",
       "      <th>2</th>\n",
       "      <td>Селицкая Зинаида Петровна</td>\n",
       "      <td>БЕЛАЗ</td>\n",
       "      <td>BLR</td>\n",
       "      <td>fe942299-3c67-42f4-8375-8b411f92b0f8</td>\n",
       "      <td>/Date(1508405173000)/</td>\n",
       "      <td>USD</td>\n",
       "      <td>None</td>\n",
       "      <td>Продажа товаров / Селицкая Зинаида Петровна, Б...</td>\n",
       "      <td>из тендера</td>\n",
       "      <td>Продажа товаров</td>\n",
       "      <td>...</td>\n",
       "      <td>Закупка портативного устройства ударно-точечно...</td>\n",
       "      <td>None</td>\n",
       "      <td>None</td>\n",
       "      <td>None</td>\n",
       "      <td>a2342979-1e6f-4d4b-83dd-4b2f65d1fb35</td>\n",
       "      <td>http://www.icetrade.by/tenders/all/view/493789</td>\n",
       "      <td>None</td>\n",
       "      <td></td>\n",
       "      <td>2017-493789</td>\n",
       "      <td>http://www.icetrade.by/tenders/all/view/493789</td>\n",
       "    </tr>\n",
       "    <tr>\n",
       "      <th>3</th>\n",
       "      <td>Худолей А.Л.</td>\n",
       "      <td>ИТМО</td>\n",
       "      <td>None</td>\n",
       "      <td>12fb6add-601a-4280-ab7c-9f50db13cfeb</td>\n",
       "      <td>/Date(1501785633000)/</td>\n",
       "      <td>USD</td>\n",
       "      <td>None</td>\n",
       "      <td>Продажа товаров / Худолей А.Л., ИТМО</td>\n",
       "      <td>из заявки</td>\n",
       "      <td>Продажа товаров</td>\n",
       "      <td>...</td>\n",
       "      <td>реометр фирмы Anton Paar</td>\n",
       "      <td>2fb35800-c748-4206-a08d-c07e53263f49</td>\n",
       "      <td>None</td>\n",
       "      <td>None</td>\n",
       "      <td>ee429f36-84db-4fe2-8073-bd34c0036a0c</td>\n",
       "      <td></td>\n",
       "      <td>None</td>\n",
       "      <td>Anton Paar на территории СНГ представляют русс...</td>\n",
       "      <td></td>\n",
       "      <td></td>\n",
       "    </tr>\n",
       "    <tr>\n",
       "      <th>4</th>\n",
       "      <td></td>\n",
       "      <td>Techlab</td>\n",
       "      <td>None</td>\n",
       "      <td>84efa895-6df0-4663-b005-f49e39193128</td>\n",
       "      <td>/Date(1536242991130)/</td>\n",
       "      <td>USD</td>\n",
       "      <td>None</td>\n",
       "      <td>Продажа товаров /  TECHLAB</td>\n",
       "      <td>из переговоров</td>\n",
       "      <td>Продажа товаров</td>\n",
       "      <td>...</td>\n",
       "      <td>Лента латунная Inter ISO CuZn</td>\n",
       "      <td>84efa895-6df0-4663-b005-f49e39193128</td>\n",
       "      <td>None</td>\n",
       "      <td>None</td>\n",
       "      <td>None</td>\n",
       "      <td></td>\n",
       "      <td>/Date(1536786000000)/</td>\n",
       "      <td>Получить КП</td>\n",
       "      <td></td>\n",
       "      <td></td>\n",
       "    </tr>\n",
       "  </tbody>\n",
       "</table>\n",
       "<p>5 rows × 46 columns</p>\n",
       "</div>"
      ],
      "text/plain": [
       "                     Contact Contractor Country  \\\n",
       "0                                          None   \n",
       "1                      Елдос                KAZ   \n",
       "2  Селицкая Зинаида Петровна      БЕЛАЗ     BLR   \n",
       "3               Худолей А.Л.       ИТМО    None   \n",
       "4                               Techlab    None   \n",
       "\n",
       "                            CreatedById              CreatedOn Currency  \\\n",
       "0  ce47f1b8-31d2-4114-bded-50c149b2a8d7  /Date(1535087347272)/      USD   \n",
       "1  7848733e-d22a-425f-bf86-cb5bbef356ba  /Date(1497594689556)/      USD   \n",
       "2  fe942299-3c67-42f4-8375-8b411f92b0f8  /Date(1508405173000)/      USD   \n",
       "3  12fb6add-601a-4280-ab7c-9f50db13cfeb  /Date(1501785633000)/      USD   \n",
       "4  84efa895-6df0-4663-b005-f49e39193128  /Date(1536242991130)/      USD   \n",
       "\n",
       "              DateInvite                                           LeadName  \\\n",
       "0  /Date(1536699600000)/  Продажа брендов / Городское клиническое патоло...   \n",
       "1                   None                           Продажа Интернет / Елдос   \n",
       "2                   None  Продажа товаров / Селицкая Зинаида Петровна, Б...   \n",
       "3                   None               Продажа товаров / Худолей А.Л., ИТМО   \n",
       "4                   None                         Продажа товаров /  TECHLAB   \n",
       "\n",
       "       LeadSource          LeadType  \\\n",
       "0  из переговоров   Продажа брендов   \n",
       "1       из заявки  Продажа Интернет   \n",
       "2      из тендера   Продажа товаров   \n",
       "3       из заявки   Продажа товаров   \n",
       "4  из переговоров   Продажа товаров   \n",
       "\n",
       "                        ...                        \\\n",
       "0                       ...                         \n",
       "1                       ...                         \n",
       "2                       ...                         \n",
       "3                       ...                         \n",
       "4                       ...                         \n",
       "\n",
       "                                           UsrSTRING  \\\n",
       "0            Лезвия одноразовые Горпатбюро 4 квартал   \n",
       "1             ADSL/VDSL Тестовый телефон Vesala AP32   \n",
       "2  Закупка портативного устройства ударно-точечно...   \n",
       "3                          реометр фирмы Anton Paar    \n",
       "4                      Лента латунная Inter ISO CuZn   \n",
       "\n",
       "                     UsrTehSpecialistId                  UsrToProdazhaAutorId  \\\n",
       "0  ce47f1b8-31d2-4114-bded-50c149b2a8d7                                  None   \n",
       "1                                  None  d13c5c83-c9ea-4971-961a-c36b32344359   \n",
       "2                                  None                                  None   \n",
       "3  2fb35800-c748-4206-a08d-c07e53263f49                                  None   \n",
       "4  84efa895-6df0-4663-b005-f49e39193128                                  None   \n",
       "\n",
       "             UsrTorgDATE                             UsrTypeId  \\\n",
       "0  /Date(1539085391000)/  ee429f36-84db-4fe2-8073-bd34c0036a0c   \n",
       "1                   None                                  None   \n",
       "2                   None  a2342979-1e6f-4d4b-83dd-4b2f65d1fb35   \n",
       "3                   None  ee429f36-84db-4fe2-8073-bd34c0036a0c   \n",
       "4                   None                                  None   \n",
       "\n",
       "                                   UsrURLIcetrade     UsrZadanieDeadLine  \\\n",
       "0  http://www.icetrade.by/tenders/all/view/611418                   None   \n",
       "1                                                                   None   \n",
       "2  http://www.icetrade.by/tenders/all/view/493789                   None   \n",
       "3                                                                   None   \n",
       "4                                                  /Date(1536786000000)/   \n",
       "\n",
       "                                   UsrZadanieZakupki  UsrZakupNum  \\\n",
       "0                                                     2018-611418   \n",
       "1                                                                   \n",
       "2                                                     2017-493789   \n",
       "3  Anton Paar на территории СНГ представляют русс...                \n",
       "4                                        Получить КП                \n",
       "\n",
       "                                          Website  \n",
       "0                                                  \n",
       "1                                                  \n",
       "2  http://www.icetrade.by/tenders/all/view/493789  \n",
       "3                                                  \n",
       "4                                                  \n",
       "\n",
       "[5 rows x 46 columns]"
      ]
     },
     "execution_count": 29,
     "metadata": {},
     "output_type": "execute_result"
    }
   ],
   "source": [
    "df = pd.read_json('Data/Lead_DS_arr2.json', orient='values', encoding='utf-8')\n",
    "df.head()"
   ]
  },
  {
   "cell_type": "code",
   "execution_count": 34,
   "metadata": {},
   "outputs": [
    {
     "data": {
      "text/plain": [
       "Index(['Contact', 'Contractor', 'Country', 'CreatedById', 'CreatedOn',\n",
       "       'Currency', 'DateInvite', 'LeadName', 'LeadSource', 'LeadType',\n",
       "       'ModifiedById', 'ModifiedOn', 'Notes', 'OpportunityId', 'OwnerId',\n",
       "       'QStatus', 'QualifiedAccountId', 'QualifiedContactId', 'SdelkaId',\n",
       "       'StatusId', 'USRLeadCode', 'UsrAmount', 'UsrAnalizComment',\n",
       "       'UsrAnalizGotov', 'UsrBudgetUsd', 'UsrKvalification',\n",
       "       'UsrKvalificationDone', 'UsrLeadCloseAutorId',\n",
       "       'UsrLidDescriptionSTRING', 'UsrLotNumber', 'UsrOrganizatorId',\n",
       "       'UsrOtchetDate', 'UsrPodachaDATE', 'UsrPrichina', 'UsrPrimaryAmount',\n",
       "       'UsrProduct', 'UsrSTRING', 'UsrTehSpecialistId', 'UsrToProdazhaAutorId',\n",
       "       'UsrTorgDATE', 'UsrTypeId', 'UsrURLIcetrade', 'UsrZadanieDeadLine',\n",
       "       'UsrZadanieZakupki', 'UsrZakupNum', 'Website'],\n",
       "      dtype='object')"
      ]
     },
     "execution_count": 34,
     "metadata": {},
     "output_type": "execute_result"
    }
   ],
   "source": [
    "df.columns"
   ]
  },
  {
   "cell_type": "code",
   "execution_count": null,
   "metadata": {},
   "outputs": [],
   "source": [
    "df['Code'] = df.USRLeadCode"
   ]
  },
  {
   "cell_type": "code",
   "execution_count": 57,
   "metadata": {},
   "outputs": [
    {
     "data": {
      "text/plain": [
       "[<matplotlib.lines.Line2D at 0x1aa6d3cafd0>]"
      ]
     },
     "execution_count": 57,
     "metadata": {},
     "output_type": "execute_result"
    },
    {
     "data": {
      "image/png": "[encoded data removed]",
      "text/plain": [
       "<Figure size 432x288 with 1 Axes>"
      ]
     },
     "metadata": {},
     "output_type": "display_data"
    }
   ],
   "source": [
    "\n",
    "#vals_to_replace = {'/Date(':'', ')/':''}\n",
    "df['CreatedOn1'] = df['CreatedOn'].str.replace('/Date(', '', regex=False).str.replace(')/', '', regex=False)\n",
    "df['CreatedOn1'] = pd.to_datetime(pd.to_numeric( df['CreatedOn1']),  unit='ms' )\n",
    "#df['CreatedOn1']\n",
    "\n",
    "\n",
    "\n",
    "plt.plot(df.CreatedOn1, df.UsrAmount, 'bo')"
   ]
  },
  {
   "cell_type": "code",
   "execution_count": 8,
   "metadata": {},
   "outputs": [
    {
     "data": {
      "text/plain": [
       "<matplotlib.axes._subplots.AxesSubplot at 0x1aa77f44a20>"
      ]
     },
     "execution_count": 8,
     "metadata": {},
     "output_type": "execute_result"
    },
    {
     "data": {
      "image/png": "[encoded data removed]",
      "text/plain": [
       "<Figure size 432x288 with 1 Axes>"
      ]
     },
     "metadata": {},
     "output_type": "display_data"
    }
   ],
   "source": [
    "df.Country.value_counts().plot(kind='bar')"
   ]
  },
  {
   "cell_type": "code",
   "execution_count": 15,
   "metadata": {},
   "outputs": [
    {
     "data": {
      "text/plain": [
       "<matplotlib.axes._subplots.AxesSubplot at 0x193024aa4a8>"
      ]
     },
     "execution_count": 15,
     "metadata": {},
     "output_type": "execute_result"
    },
    {
     "data": {
      "image/png": "[encoded data removed]",
      "text/plain": [
       "<Figure size 432x288 with 1 Axes>"
      ]
     },
     "metadata": {},
     "output_type": "display_data"
    }
   ],
   "source": [
    "df.Currency.value_counts().plot(kind='bar')"
   ]
  },
  {
   "cell_type": "code",
   "execution_count": 16,
   "metadata": {},
   "outputs": [
    {
     "data": {
      "text/plain": [
       "<matplotlib.axes._subplots.AxesSubplot at 0x19302f1a0f0>"
      ]
     },
     "execution_count": 16,
     "metadata": {},
     "output_type": "execute_result"
    },
    {
     "data": {
      "image/png": "[encoded data removed]",
      "text/plain": [
       "<Figure size 432x288 with 1 Axes>"
      ]
     },
     "metadata": {},
     "output_type": "display_data"
    }
   ],
   "source": [
    "df.LeadSource.value_counts().plot(kind='bar')"
   ]
  },
  {
   "cell_type": "code",
   "execution_count": 7,
   "metadata": {},
   "outputs": [
    {
     "data": {
      "text/plain": [
       "<matplotlib.axes._subplots.AxesSubplot at 0x1aa77f65ba8>"
      ]
     },
     "execution_count": 7,
     "metadata": {},
     "output_type": "execute_result"
    },
    {
     "data": {
      "image/png": "[encoded data removed]",
      "text/plain": [
       "<Figure size 432x288 with 1 Axes>"
      ]
     },
     "metadata": {},
     "output_type": "display_data"
    }
   ],
   "source": [
    "df.QStatus.value_counts().plot(kind='bar')"
   ]
  },
  {
   "cell_type": "code",
   "execution_count": null,
   "metadata": {},
   "outputs": [],
   "source": []
  }
 ],
 "metadata": {
  "kernelspec": {
   "display_name": "Python 3",
   "language": "python",
   "name": "python3"
  },
  "language_info": {
   "codemirror_mode": {
    "name": "ipython",
    "version": 3
   },
   "file_extension": ".py",
   "mimetype": "text/x-python",
   "name": "python",
   "nbconvert_exporter": "python",
   "pygments_lexer": "ipython3",
   "version": "3.6.5"
  }
 },
 "nbformat": 4,
 "nbformat_minor": 2
}
