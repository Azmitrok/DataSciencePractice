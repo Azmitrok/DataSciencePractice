{
 "cells": [
  {
   "cell_type": "code",
   "execution_count": 45,
   "metadata": {},
   "outputs": [],
   "source": [
    "import numpy as np\n",
    "import pandas as pd\n",
    "import matplotlib.pyplot as plt"
   ]
  },
  {
   "cell_type": "code",
   "execution_count": 9,
   "metadata": {},
   "outputs": [
    {
     "data": {
      "text/plain": [
       "(67529, 17)"
      ]
     },
     "execution_count": 9,
     "metadata": {},
     "output_type": "execute_result"
    }
   ],
   "source": [
    "df = pd.read_csv(\"C:\\Work\\DataScience\\Data\\employee_reviews.csv\")\n"
   ]
  },
  {
   "cell_type": "code",
   "execution_count": 32,
   "metadata": {},
   "outputs": [
    {
     "data": {
      "text/html": [
       "<div>\n",
       "<style scoped>\n",
       "    .dataframe tbody tr th:only-of-type {\n",
       "        vertical-align: middle;\n",
       "    }\n",
       "\n",
       "    .dataframe tbody tr th {\n",
       "        vertical-align: top;\n",
       "    }\n",
       "\n",
       "    .dataframe thead th {\n",
       "        text-align: right;\n",
       "    }\n",
       "</style>\n",
       "<table border=\"1\" class=\"dataframe\">\n",
       "  <thead>\n",
       "    <tr style=\"text-align: right;\">\n",
       "      <th></th>\n",
       "      <th>Unnamed: 0</th>\n",
       "      <th>company</th>\n",
       "      <th>location</th>\n",
       "      <th>dates</th>\n",
       "      <th>job-title</th>\n",
       "      <th>summary</th>\n",
       "      <th>pros</th>\n",
       "      <th>cons</th>\n",
       "      <th>advice-to-mgmt</th>\n",
       "      <th>overall-ratings</th>\n",
       "      <th>work-balance-stars</th>\n",
       "      <th>culture-values-stars</th>\n",
       "      <th>carrer-opportunities-stars</th>\n",
       "      <th>comp-benefit-stars</th>\n",
       "      <th>senior-mangemnet-stars</th>\n",
       "      <th>helpful-count</th>\n",
       "      <th>link</th>\n",
       "      <th>isCurrent</th>\n",
       "      <th>job-title1</th>\n",
       "    </tr>\n",
       "  </thead>\n",
       "  <tbody>\n",
       "    <tr>\n",
       "      <th>0</th>\n",
       "      <td>1</td>\n",
       "      <td>google</td>\n",
       "      <td>none</td>\n",
       "      <td>Dec 11, 2018</td>\n",
       "      <td>Current Employee - Anonymous Employee</td>\n",
       "      <td>Best Company to work for</td>\n",
       "      <td>People are smart and friendly</td>\n",
       "      <td>Bureaucracy is slowing things down</td>\n",
       "      <td>none</td>\n",
       "      <td>5.0</td>\n",
       "      <td>4.0</td>\n",
       "      <td>5.0</td>\n",
       "      <td>5.0</td>\n",
       "      <td>4.0</td>\n",
       "      <td>5.0</td>\n",
       "      <td>0</td>\n",
       "      <td>https://www.glassdoor.com/Reviews/Google-Revie...</td>\n",
       "      <td>True</td>\n",
       "      <td>Anonymous Employee</td>\n",
       "    </tr>\n",
       "    <tr>\n",
       "      <th>1</th>\n",
       "      <td>2</td>\n",
       "      <td>google</td>\n",
       "      <td>Mountain View, CA</td>\n",
       "      <td>Jun 21, 2013</td>\n",
       "      <td>Former Employee - Program Manager</td>\n",
       "      <td>Moving at the speed of light, burn out is inev...</td>\n",
       "      <td>1) Food, food, food. 15+ cafes on main campus ...</td>\n",
       "      <td>1) Work/life balance. What balance? All those ...</td>\n",
       "      <td>1) Don't dismiss emotional intelligence and ad...</td>\n",
       "      <td>4.0</td>\n",
       "      <td>2.0</td>\n",
       "      <td>3.0</td>\n",
       "      <td>3.0</td>\n",
       "      <td>5.0</td>\n",
       "      <td>3.0</td>\n",
       "      <td>2094</td>\n",
       "      <td>https://www.glassdoor.com/Reviews/Google-Revie...</td>\n",
       "      <td>False</td>\n",
       "      <td>Program Manager</td>\n",
       "    </tr>\n",
       "    <tr>\n",
       "      <th>2</th>\n",
       "      <td>3</td>\n",
       "      <td>google</td>\n",
       "      <td>New York, NY</td>\n",
       "      <td>May 10, 2014</td>\n",
       "      <td>Current Employee - Software Engineer III</td>\n",
       "      <td>Great balance between big-company security and...</td>\n",
       "      <td>* If you're a software engineer, you're among ...</td>\n",
       "      <td>* It *is* becoming larger, and with it comes g...</td>\n",
       "      <td>Keep the focus on the user. Everything else wi...</td>\n",
       "      <td>5.0</td>\n",
       "      <td>5.0</td>\n",
       "      <td>4.0</td>\n",
       "      <td>5.0</td>\n",
       "      <td>5.0</td>\n",
       "      <td>4.0</td>\n",
       "      <td>949</td>\n",
       "      <td>https://www.glassdoor.com/Reviews/Google-Revie...</td>\n",
       "      <td>True</td>\n",
       "      <td>Software Engineer III</td>\n",
       "    </tr>\n",
       "    <tr>\n",
       "      <th>3</th>\n",
       "      <td>4</td>\n",
       "      <td>google</td>\n",
       "      <td>Mountain View, CA</td>\n",
       "      <td>Feb 8, 2015</td>\n",
       "      <td>Current Employee - Anonymous Employee</td>\n",
       "      <td>The best place I've worked and also the most d...</td>\n",
       "      <td>You can't find a more well-regarded company th...</td>\n",
       "      <td>I live in SF so the commute can take between 1...</td>\n",
       "      <td>Keep on NOT micromanaging - that is a huge ben...</td>\n",
       "      <td>5.0</td>\n",
       "      <td>2.0</td>\n",
       "      <td>5.0</td>\n",
       "      <td>5.0</td>\n",
       "      <td>4.0</td>\n",
       "      <td>5.0</td>\n",
       "      <td>498</td>\n",
       "      <td>https://www.glassdoor.com/Reviews/Google-Revie...</td>\n",
       "      <td>True</td>\n",
       "      <td>Anonymous Employee</td>\n",
       "    </tr>\n",
       "    <tr>\n",
       "      <th>4</th>\n",
       "      <td>5</td>\n",
       "      <td>google</td>\n",
       "      <td>Los Angeles, CA</td>\n",
       "      <td>Jul 19, 2018</td>\n",
       "      <td>Former Employee - Software Engineer</td>\n",
       "      <td>Unique, one of a kind dream job</td>\n",
       "      <td>Google is a world of its own. At every other c...</td>\n",
       "      <td>If you don't work in MTV (HQ), you will be giv...</td>\n",
       "      <td>Promote managers into management for their man...</td>\n",
       "      <td>5.0</td>\n",
       "      <td>5.0</td>\n",
       "      <td>5.0</td>\n",
       "      <td>5.0</td>\n",
       "      <td>5.0</td>\n",
       "      <td>5.0</td>\n",
       "      <td>49</td>\n",
       "      <td>https://www.glassdoor.com/Reviews/Google-Revie...</td>\n",
       "      <td>False</td>\n",
       "      <td>Software Engineer</td>\n",
       "    </tr>\n",
       "  </tbody>\n",
       "</table>\n",
       "</div>"
      ],
      "text/plain": [
       "   Unnamed: 0 company           location          dates  \\\n",
       "0           1  google               none   Dec 11, 2018   \n",
       "1           2  google  Mountain View, CA   Jun 21, 2013   \n",
       "2           3  google       New York, NY   May 10, 2014   \n",
       "3           4  google  Mountain View, CA    Feb 8, 2015   \n",
       "4           5  google    Los Angeles, CA   Jul 19, 2018   \n",
       "\n",
       "                                  job-title  \\\n",
       "0     Current Employee - Anonymous Employee   \n",
       "1         Former Employee - Program Manager   \n",
       "2  Current Employee - Software Engineer III   \n",
       "3     Current Employee - Anonymous Employee   \n",
       "4       Former Employee - Software Engineer   \n",
       "\n",
       "                                             summary  \\\n",
       "0                           Best Company to work for   \n",
       "1  Moving at the speed of light, burn out is inev...   \n",
       "2  Great balance between big-company security and...   \n",
       "3  The best place I've worked and also the most d...   \n",
       "4                    Unique, one of a kind dream job   \n",
       "\n",
       "                                                pros  \\\n",
       "0                      People are smart and friendly   \n",
       "1  1) Food, food, food. 15+ cafes on main campus ...   \n",
       "2  * If you're a software engineer, you're among ...   \n",
       "3  You can't find a more well-regarded company th...   \n",
       "4  Google is a world of its own. At every other c...   \n",
       "\n",
       "                                                cons  \\\n",
       "0                 Bureaucracy is slowing things down   \n",
       "1  1) Work/life balance. What balance? All those ...   \n",
       "2  * It *is* becoming larger, and with it comes g...   \n",
       "3  I live in SF so the commute can take between 1...   \n",
       "4  If you don't work in MTV (HQ), you will be giv...   \n",
       "\n",
       "                                      advice-to-mgmt  overall-ratings  \\\n",
       "0                                               none              5.0   \n",
       "1  1) Don't dismiss emotional intelligence and ad...              4.0   \n",
       "2  Keep the focus on the user. Everything else wi...              5.0   \n",
       "3  Keep on NOT micromanaging - that is a huge ben...              5.0   \n",
       "4  Promote managers into management for their man...              5.0   \n",
       "\n",
       "  work-balance-stars culture-values-stars carrer-opportunities-stars  \\\n",
       "0                4.0                  5.0                        5.0   \n",
       "1                2.0                  3.0                        3.0   \n",
       "2                5.0                  4.0                        5.0   \n",
       "3                2.0                  5.0                        5.0   \n",
       "4                5.0                  5.0                        5.0   \n",
       "\n",
       "  comp-benefit-stars senior-mangemnet-stars  helpful-count  \\\n",
       "0                4.0                    5.0              0   \n",
       "1                5.0                    3.0           2094   \n",
       "2                5.0                    4.0            949   \n",
       "3                4.0                    5.0            498   \n",
       "4                5.0                    5.0             49   \n",
       "\n",
       "                                                link  isCurrent  \\\n",
       "0  https://www.glassdoor.com/Reviews/Google-Revie...       True   \n",
       "1  https://www.glassdoor.com/Reviews/Google-Revie...      False   \n",
       "2  https://www.glassdoor.com/Reviews/Google-Revie...       True   \n",
       "3  https://www.glassdoor.com/Reviews/Google-Revie...       True   \n",
       "4  https://www.glassdoor.com/Reviews/Google-Revie...      False   \n",
       "\n",
       "              job-title1  \n",
       "0     Anonymous Employee  \n",
       "1        Program Manager  \n",
       "2  Software Engineer III  \n",
       "3     Anonymous Employee  \n",
       "4      Software Engineer  "
      ]
     },
     "execution_count": 32,
     "metadata": {},
     "output_type": "execute_result"
    }
   ],
   "source": [
    "df.head()"
   ]
  },
  {
   "cell_type": "code",
   "execution_count": 5,
   "metadata": {
    "scrolled": true
   },
   "outputs": [
    {
     "data": {
      "text/plain": [
       "amazon       26430\n",
       "microsoft    17930\n",
       "apple        12950\n",
       "google        7819\n",
       "facebook      1590\n",
       "netflix        810\n",
       "Name: company, dtype: int64"
      ]
     },
     "execution_count": 5,
     "metadata": {},
     "output_type": "execute_result"
    }
   ],
   "source": [
    "df.company.value_counts()"
   ]
  },
  {
   "cell_type": "code",
   "execution_count": 10,
   "metadata": {},
   "outputs": [
    {
     "data": {
      "text/plain": [
       "(67529, 17)"
      ]
     },
     "execution_count": 10,
     "metadata": {},
     "output_type": "execute_result"
    }
   ],
   "source": [
    "df.shape"
   ]
  },
  {
   "cell_type": "code",
   "execution_count": 8,
   "metadata": {},
   "outputs": [
    {
     "data": {
      "text/plain": [
       "(67529, 17)"
      ]
     },
     "execution_count": 8,
     "metadata": {},
     "output_type": "execute_result"
    }
   ],
   "source": [
    "df[df.link.str.startswith('https://www.glassdoor.com/')].shape"
   ]
  },
  {
   "cell_type": "code",
   "execution_count": 13,
   "metadata": {},
   "outputs": [
    {
     "data": {
      "text/plain": [
       "Current Employee - Anonymous Employee                                        16177\n",
       "Former Employee - Anonymous Employee                                         10825\n",
       "Current Employee - Software Engineer                                          1292\n",
       "Current Employee - Software Development Engineer                               907\n",
       "Current Employee - Specialist                                                  571\n",
       "Current Employee - Program Manager                                             554\n",
       "Former Employee - Specialist                                                   489\n",
       "Current Employee - Senior Software Engineer                                    477\n",
       "Former Employee - Software Engineer                                            473\n",
       "Current Employee - Software Development Engineer II                            462\n",
       "Current Employee - Senior Program Manager                                      449\n",
       "Current Employee - Fulfillment Associate                                       384\n",
       "Current Employee - Warehouse Associate                                         374\n",
       "Former Employee - Software Development Engineer                                329\n",
       "Former Employee - Warehouse Associate                                          305\n",
       "Former Employee - Program Manager                                              272\n",
       "Current Employee - Senior Software Development Engineer                        257\n",
       "Current Employee - Manager                                                     244\n",
       "Current Employee - Area Manager                                                227\n",
       "Former Employee - Fulfillment Associate                                        218\n",
       "Current Employee - Software Development Engineer In Test (SDET)                210\n",
       "Current Employee - Product Manager                                             196\n",
       "Current Employee - Senior Product Manager                                      195\n",
       "Former Employee - Mac Specialist (Apple Store)                                 181\n",
       "Current Employee - Account Manager                                             179\n",
       "Current Employee - Software Development Engineer I                             177\n",
       "Current Employee - Mac Specialist (Apple Store)                                174\n",
       "Current Employee - Director                                                    173\n",
       "Current Employee - Software Development Engineer In Test (SDET) II             172\n",
       "Former Employee - Senior Software Engineer                                     160\n",
       "                                                                             ...  \n",
       "Current Employee - Film Producer                                                 1\n",
       "Current Employee - Risk Investigator - AWS Variable Fraud                        1\n",
       "Current Employee - Analytical Consultant                                         1\n",
       "Current Employee - Localization Specialist                                       1\n",
       "Current Employee - Tier I Outbound OP Picker                                     1\n",
       "Former Employee - Country Manager                                                1\n",
       "Current Employee - Customer Care Tech Support                                    1\n",
       "Former Employee - Creative/Retail Marketing                                      1\n",
       "Current Employee - Tech Sales                                                    1\n",
       "Current Employee - Security Analyst                                              1\n",
       "Current Employee - Policy Associate                                              1\n",
       "Current Employee - Server                                                        1\n",
       "Current Employee - Digital Content Producer                                      1\n",
       "Former Employee - Advanced Product Team Manager                                  1\n",
       "Current Employee - Tier I Fulfullment Center Associate                           1\n",
       "Current Employee - CSSI                                                          1\n",
       "Current Employee - Senior Software Engineer/Tech Lead                            1\n",
       "Former Employee - Licensed Practical Nurse, Moderate Risk OB Case Manager        1\n",
       "Former Employee - Java/J2EE Developer                                            1\n",
       "Current Employee - Transporter                                                   1\n",
       "Former Employee - Global Sales                                                   1\n",
       "Former Employee - Frontline Helpdesk                                             1\n",
       "Former Employee - Software Consultans                                            1\n",
       "Former Employee - Process Lead/Team Lead                                         1\n",
       "Current Employee - AHA IOS Advisor                                               1\n",
       "Former Employee - Warehouse Associate - Outbound                                 1\n",
       "Current Employee - Software Engineering Resident                                 1\n",
       "Current Employee - Materials Program Manager                                     1\n",
       "Former Employee - Operation Manager Customer Service                             1\n",
       "Current Employee - OEM Sales                                                     1\n",
       "Name: job-title, Length: 8308, dtype: int64"
      ]
     },
     "execution_count": 13,
     "metadata": {},
     "output_type": "execute_result"
    }
   ],
   "source": [
    "df['job-title'].value_counts()\n"
   ]
  },
  {
   "cell_type": "code",
   "execution_count": 31,
   "metadata": {},
   "outputs": [
    {
     "data": {
      "text/plain": [
       "Anonymous Employee                                            27002\n",
       "Software Engineer                                              1768\n",
       "Software Development Engineer                                  1244\n",
       "Specialist                                                     1060\n",
       "Program Manager                                                 826\n",
       "Warehouse Associate                                             681\n",
       "Senior Software Engineer                                        637\n",
       "Senior Program Manager                                          609\n",
       "Fulfillment Associate                                           603\n",
       "Software Development Engineer II                                587\n",
       "Manager                                                         383\n",
       "Mac Specialist (Apple Store)                                    355\n",
       "Senior Software Development Engineer                            322\n",
       "Area Manager                                                    319\n",
       "Software Development Engineer In Test (SDET)                    313\n",
       "Product Manager                                                 304\n",
       "Family Room Specialist                                          297\n",
       "Director                                                        294\n",
       "Senior Product Manager                                          269\n",
       "Customer Service Representative                                 267\n",
       "Account Manager                                                 265\n",
       "Customer Service Associate                                      259\n",
       "Associate                                                       247\n",
       "Senior Manager                                                  239\n",
       "Mac Genius                                                      239\n",
       "Software Development Engineer I                                 228\n",
       "Operations Manager                                              225\n",
       "Software Development Engineer In Test (SDET) II                 219\n",
       "Picker                                                          209\n",
       "Program Manager II                                              202\n",
       "                                                              ...  \n",
       "IOS/IMac Advisor                                                  1\n",
       "Content and User Education Specialist                             1\n",
       "Infrastructure Project Manager                                    1\n",
       "Senior Technology Specialist                                      1\n",
       "Quality Program Manager                                           1\n",
       "WFH/CSA                                                           1\n",
       "II V Years                                                        1\n",
       "Sales Team Leader                                                 1\n",
       "Mac Specialist (Apple Store) &amp, Concierge                      1\n",
       "Network Test Engineer                                             1\n",
       "Software Engineer, Tools &amp, Infrastructure                     1\n",
       "Inside Sales Executive                                            1\n",
       "Solutions Delivery Manager                                        1\n",
       "NA DART SPECIALIST                                                1\n",
       "Fresh Associate/Seasonal Fulfillment Associate                    1\n",
       "Partner Sales Executive – License Solution Providers (LSP)        1\n",
       "Network Deployment Engineer                                       1\n",
       "Computer Typing Work                                              1\n",
       "Web Architect                                                     1\n",
       "Software Development Supervisor                                   1\n",
       "Home Based Tech Support Agent                                     1\n",
       "IOS Recruiter                                                     1\n",
       "Logistic Ambassador Associate                                     1\n",
       "Accounts Payable Administrator                                    1\n",
       "Net Architect                                                     1\n",
       "Law Internship                                                    1\n",
       "Amazon Media Group Associate Account Executive                    1\n",
       "Business Group Lead                                               1\n",
       "Strategy and Planning                                             1\n",
       "Catalogue Specialist                                              1\n",
       "Name: job-title1, Length: 6821, dtype: int64"
      ]
     },
     "execution_count": 31,
     "metadata": {},
     "output_type": "execute_result"
    }
   ],
   "source": [
    "df['isCurrent'] = df['job-title'].str.startswith('Current Employee')\n",
    "#df.isCurrent.value_counts().plot(kind='bar')\n",
    "df['job-title1'] = df['job-title'].str.split(pat=' - ').str[1]\n",
    "df['job-title1'].value_counts()"
   ]
  },
  {
   "cell_type": "code",
   "execution_count": 34,
   "metadata": {},
   "outputs": [
    {
     "data": {
      "text/plain": [
       "(9188, 19)"
      ]
     },
     "execution_count": 34,
     "metadata": {},
     "output_type": "execute_result"
    }
   ],
   "source": [
    "df_negativ = df[df['overall-ratings'] < 3]\n",
    "df_negativ.shape"
   ]
  },
  {
   "cell_type": "code",
   "execution_count": 65,
   "metadata": {},
   "outputs": [
    {
     "data": {
      "text/plain": [
       "amazon       26430\n",
       "microsoft    17930\n",
       "apple        12950\n",
       "google        7819\n",
       "facebook      1590\n",
       "netflix        810\n",
       "Name: company, dtype: int64"
      ]
     },
     "execution_count": 65,
     "metadata": {},
     "output_type": "execute_result"
    }
   ],
   "source": [
    "df.company.value_counts()"
   ]
  },
  {
   "cell_type": "code",
   "execution_count": 71,
   "metadata": {},
   "outputs": [
    {
     "data": {
      "text/plain": [
       "<BarContainer object of 6 artists>"
      ]
     },
     "execution_count": 71,
     "metadata": {},
     "output_type": "execute_result"
    },
    {
     "data": {
      "image/png": "[encoded data removed]",
      "text/plain": [
       "<Figure size 432x288 with 2 Axes>"
      ]
     },
     "metadata": {
      "needs_background": "light"
     },
     "output_type": "display_data"
    }
   ],
   "source": [
    "#ch1 = df.company.value_counts().plot(kind='bar')\n",
    "#ch2 = df_negativ.company.value_counts().plot(kind='bar')\n",
    "\n",
    "f, axarr = plt.subplots(1, 2)\n",
    "\n",
    "axarr[0].bar(df.company.value_counts().index, df.company.value_counts(), tick_label=df.company.value_counts().index)\n",
    "axarr[1].bar(df_negativ.company.value_counts().index, df_negativ.company.value_counts())"
   ]
  },
  {
   "cell_type": "code",
   "execution_count": null,
   "metadata": {},
   "outputs": [],
   "source": []
  }
 ],
 "metadata": {
  "kernelspec": {
   "display_name": "Python 3",
   "language": "python",
   "name": "python3"
  },
  "language_info": {
   "codemirror_mode": {
    "name": "ipython",
    "version": 3
   },
   "file_extension": ".py",
   "mimetype": "text/x-python",
   "name": "python",
   "nbconvert_exporter": "python",
   "pygments_lexer": "ipython3",
   "version": "3.6.8"
  }
 },
 "nbformat": 4,
 "nbformat_minor": 2
}
